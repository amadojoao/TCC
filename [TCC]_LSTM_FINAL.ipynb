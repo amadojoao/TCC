{
  "nbformat": 4,
  "nbformat_minor": 0,
  "metadata": {
    "colab": {
      "provenance": [],
      "collapsed_sections": [
        "edJ3LWq0TvZy",
        "I4pkU2QZahyY",
        "KZ97P5uF9pxp",
        "2iP8Uf1y97ep",
        "Kgeeq_cnDkeQ",
        "OZL0qf3NS8Bh",
        "9SUcOcukRKYG",
        "xn4Gjn3KI1Bg",
        "tZZDQIDcYLGA",
        "YGM8LqDaUFVC",
        "bBZY-Ogda2aN",
        "FmWXPhUebsZQ",
        "M4o8rG9Gimy6",
        "ZTqSaKQK32NN",
        "weiNZ_H-6F-9"
      ]
    },
    "kernelspec": {
      "name": "python3",
      "display_name": "Python 3"
    },
    "language_info": {
      "name": "python"
    }
  },
  "cells": [
    {
      "cell_type": "markdown",
      "source": [
        "## **Preparando o ambiente - Instalações e Configurações**"
      ],
      "metadata": {
        "id": "mbEDNr969gpg"
      }
    },
    {
      "cell_type": "markdown",
      "source": [
        "### Bibliotecas"
      ],
      "metadata": {
        "id": "edJ3LWq0TvZy"
      }
    },
    {
      "cell_type": "code",
      "execution_count": null,
      "metadata": {
        "id": "XJCTi_jjn8WZ"
      },
      "outputs": [],
      "source": [
        "import warnings\n",
        "warnings.filterwarnings(\"ignore\")\n",
        "\n",
        "import requests\n",
        "from copy import deepcopy\n",
        "import datetime\n",
        "\n",
        "import math\n",
        "import yfinance as yf\n",
        "import numpy as np\n",
        "from numpy import random\n",
        "import pandas as pd\n",
        "from sklearn.preprocessing import StandardScaler\n",
        "from sklearn.preprocessing import MinMaxScaler\n",
        "import matplotlib.pyplot as plt\n",
        "plt.rcParams['font.family'] = 'serif'\n",
        "\n",
        "import tensorflow as tf\n",
        "from sklearn.metrics import mean_squared_error as mse\n",
        "from tensorflow import keras\n",
        "from tensorflow.keras import layers\n",
        "from tensorflow.keras.models import Sequential\n",
        "from tensorflow.keras.layers import *\n",
        "from tensorflow.keras.callbacks import ModelCheckpoint\n",
        "from tensorflow.keras.losses import MeanSquaredError\n",
        "from tensorflow.keras.metrics import RootMeanSquaredError\n",
        "from tensorflow.keras.optimizers import Adam\n",
        "\n",
        "from sklearn.metrics import (\n",
        "    mean_absolute_error,\n",
        "    mean_squared_error,\n",
        "    r2_score,\n",
        "    mean_absolute_percentage_error\n",
        ")\n",
        "\n",
        "\n",
        "# Importa as bibliotecas do banco central ##adjust\n",
        "!pip install -q -U python-bcb\n",
        "import seaborn as sns\n",
        "from bcb import sgs\n",
        "\n",
        "# Lib trading view ##adjust\n",
        "!pip install -q -U --upgrade --no-cache-dir git+https://github.com/rongardF/tvdatafeed.git\n",
        "from tvDatafeed import TvDatafeed, Interval\n",
        "\n",
        "# #Acesso ao Drive\n",
        "from google.colab import drive\n",
        "drive.mount('/content/drive')"
      ]
    },
    {
      "cell_type": "markdown",
      "source": [
        "### Parâmetros Ativo e Window_Size"
      ],
      "metadata": {
        "id": "4wP_QyrvTXsd"
      }
    },
    {
      "cell_type": "code",
      "source": [
        "ativo = 'SANB11.SA' # Ativos eletivos: 'BBAS3.SA', 'BBDC4.SA', 'BPAC11.SA', 'ITUB4.SA', 'SANB11.SA'\n",
        "window_size = 5"
      ],
      "metadata": {
        "id": "tFnC_nQ_TeZV"
      },
      "execution_count": null,
      "outputs": []
    },
    {
      "cell_type": "markdown",
      "source": [
        "## **Preparando o ambiente - Funções utilitárias**"
      ],
      "metadata": {
        "id": "I4pkU2QZahyY"
      }
    },
    {
      "cell_type": "code",
      "source": [
        "def str_to_datetime(s):\n",
        "  split = s.split('-')\n",
        "  year, month, day = int(split[0]), int(split[1]), int(split[2])\n",
        "  return datetime.datetime(year=year, month=month, day=day)"
      ],
      "metadata": {
        "id": "4CD6lRisTDiE"
      },
      "execution_count": null,
      "outputs": []
    },
    {
      "cell_type": "code",
      "source": [
        "# [[[c1, h1, ise1, ifnc1, camels1, cambio1], [c2...], [c3...], [c4...], [c5...]]] [c6]\n",
        "# [[[c2], [c3], [c4], [c5], [c6]]] [c7]\n",
        "# [[[c3], [c4], [c5], [c6], [c7]]] [c8]\n",
        "\n",
        "def cria_janela_modelo(df, window_size):\n",
        "  df_as_np = df.to_numpy()\n",
        "  X = [] #numero de exemplos de treino e numero de variaveis\n",
        "  y = []\n",
        "  for i in range(len(df_as_np)-window_size):\n",
        "    #listas de variaveis que será coletada do dataframe na coluna selecionada\n",
        "    row = [r for r in df_as_np[i:i+window_size]]\n",
        "    X.append(row)\n",
        "\n",
        "    #seleciona a primeira variavel do dataframe como label, que é a que será prevista em t+1. mudar referencia para 'Close' ##adjust\n",
        "    label = df_as_np[i+window_size][0]\n",
        "    y.append(label)\n",
        "\n",
        "  #saída da função será as variáveis de input(X) e output(y)\n",
        "  #shape das variaveis de saida:\n",
        "  #X = (numero de exemplos entrada de treino, tamanho da janela, numero de variaveis aux)\n",
        "  #y = (numero de exemplos de saída de treino, )\n",
        "  return np.array(X), np.array(y)"
      ],
      "metadata": {
        "id": "tS8dBvyNBoEX"
      },
      "execution_count": null,
      "outputs": []
    },
    {
      "cell_type": "code",
      "source": [
        "def reorganiza_colunas(df):\n",
        "  if 'Close' in df.columns:\n",
        "      nova_ordem_colunas = ['Close'] + [coluna for coluna in df.columns if coluna != 'Close']\n",
        "      df = df[nova_ordem_colunas]\n",
        "  return df"
      ],
      "metadata": {
        "id": "jXbxPrgoFdoD"
      },
      "execution_count": null,
      "outputs": []
    },
    {
      "cell_type": "markdown",
      "source": [
        "## **Buscando dados - Ativo**\n"
      ],
      "metadata": {
        "id": "KZ97P5uF9pxp"
      }
    },
    {
      "cell_type": "code",
      "source": [
        "start_date, end_date = '2020-01-01', '2023-07-31'\n",
        "data = yf.download(ativo, start=start_date, end=end_date)"
      ],
      "metadata": {
        "id": "MstlV111ppCP"
      },
      "execution_count": null,
      "outputs": []
    },
    {
      "cell_type": "markdown",
      "source": [
        "## **Buscando dados - Indicadores (ISE, IFNC e BVSP)**"
      ],
      "metadata": {
        "id": "2iP8Uf1y97ep"
      }
    },
    {
      "cell_type": "code",
      "source": [
        "username = 'oantenor'; password = 'antrading1q2w3e4r'\n",
        "tv = TvDatafeed(username, password)\n",
        "\n",
        "#ise\n",
        "isedata = tv.get_hist(symbol='ISEE',\n",
        "                 exchange='BMFBOVESPA',interval=Interval.in_daily,n_bars=10000)\n",
        "isedata.index = pd.to_datetime(isedata.index).date\n",
        "ISE = pd.DataFrame(); ISE['ISE'] = isedata['close']\n",
        "\n",
        "#ifnc\n",
        "ifncdata = tv.get_hist(\n",
        "                       symbol='IFNC',\n",
        "                       exchange='BMFBOVESPA',\n",
        "                       interval=Interval.in_daily,n_bars=10000)\n",
        "ifncdata.index = pd.to_datetime(ifncdata.index).date\n",
        "IFNC = pd.DataFrame(); IFNC['IFNC'] = ifncdata['close']"
      ],
      "metadata": {
        "id": "gIovJwYq-VMK"
      },
      "execution_count": null,
      "outputs": []
    },
    {
      "cell_type": "code",
      "source": [
        "bvsp = yf.download('^BVSP', start=start_date, end=end_date)"
      ],
      "metadata": {
        "id": "32mFa0ExpkQf"
      },
      "execution_count": null,
      "outputs": []
    },
    {
      "cell_type": "markdown",
      "source": [
        "## **Buscando dados - Taxa de Juros, Cambio**"
      ],
      "metadata": {
        "id": "Kgeeq_cnDkeQ"
      }
    },
    {
      "cell_type": "code",
      "source": [
        "selic = sgs.get({'selic':432}, start = start_date)"
      ],
      "metadata": {
        "id": "wJW1ViShD4DW"
      },
      "execution_count": null,
      "outputs": []
    },
    {
      "cell_type": "code",
      "source": [
        "taxa_cambio = yf.download('BRLUSD=X', start=start_date, end=end_date)"
      ],
      "metadata": {
        "id": "8V0ietFdZV9S"
      },
      "execution_count": null,
      "outputs": []
    },
    {
      "cell_type": "markdown",
      "source": [
        "## **Carregando variáveis CAMELS**"
      ],
      "metadata": {
        "id": "OZL0qf3NS8Bh"
      }
    },
    {
      "cell_type": "code",
      "source": [
        "camels = pd.read_csv(f'/content/drive/MyDrive/ARTIGO_LSTM/camels_bancos/{ativo}_full.csv')\n",
        "# camels = pd.read_csv('df_itau_full.csv')\n",
        "camels['Data'] = camels['Data'].apply(str_to_datetime)\n",
        "camels = camels.rename(columns={'Data': 'Date'})"
      ],
      "metadata": {
        "id": "zh7nNW8pTMDw"
      },
      "execution_count": null,
      "outputs": []
    },
    {
      "cell_type": "markdown",
      "source": [
        "## **Definindo dataframe que será utilizado**"
      ],
      "metadata": {
        "id": "9SUcOcukRKYG"
      }
    },
    {
      "cell_type": "code",
      "source": [
        "micro_macro_df = data\n",
        "micro_macro_df['ise'] = isedata['close']\n",
        "micro_macro_df['ifnc'] = ifncdata['close']\n",
        "micro_macro_df['selic'] = selic['selic']\n",
        "micro_macro_df['taxa_cambio'] = taxa_cambio['Close']\n",
        "micro_macro_df['bvsp'] = bvsp['Close']"
      ],
      "metadata": {
        "id": "kOj5S0qAc3eU"
      },
      "execution_count": null,
      "outputs": []
    },
    {
      "cell_type": "code",
      "source": [
        "input_lstm_data = micro_macro_df.dropna()"
      ],
      "metadata": {
        "id": "szc04RMPdEJS"
      },
      "execution_count": null,
      "outputs": []
    },
    {
      "cell_type": "code",
      "source": [
        "input_lstm_data = pd.merge(micro_macro_df, camels, on='Date', how='inner')"
      ],
      "metadata": {
        "id": "yD4p9czoUbO2"
      },
      "execution_count": null,
      "outputs": []
    },
    {
      "cell_type": "code",
      "source": [
        "input_lstm_data = input_lstm_data.dropna()\n",
        "input_lstm_data.index = input_lstm_data.pop('Date')\n",
        "input_lstm_data = reorganiza_colunas(input_lstm_data)\n",
        "input_lstm_data.head(7)"
      ],
      "metadata": {
        "id": "o6hdhhvfdR40"
      },
      "execution_count": null,
      "outputs": []
    },
    {
      "cell_type": "markdown",
      "source": [
        "##**Definindo a janela de previsão**\n"
      ],
      "metadata": {
        "id": "xn4Gjn3KI1Bg"
      }
    },
    {
      "cell_type": "code",
      "source": [
        "input_lstm_data.shape"
      ],
      "metadata": {
        "id": "eyz5zr7s1VSw"
      },
      "execution_count": null,
      "outputs": []
    },
    {
      "cell_type": "code",
      "source": [
        "#dataframe de dados, tamanho da janela\n",
        "input_lstm, output_lstm = cria_janela_modelo(input_lstm_data, window_size)"
      ],
      "metadata": {
        "id": "BaNg25dgD6Mp"
      },
      "execution_count": null,
      "outputs": []
    },
    {
      "cell_type": "code",
      "source": [
        "#tamanho da amostra, tamanho da janela, numero de variaveis de interesse\n",
        "input_lstm.shape, output_lstm.shape"
      ],
      "metadata": {
        "id": "0ytNotrPGQc5"
      },
      "execution_count": null,
      "outputs": []
    },
    {
      "cell_type": "markdown",
      "source": [
        "##**Definição das amostras de treino e teste**\n"
      ],
      "metadata": {
        "id": "tZZDQIDcYLGA"
      }
    },
    {
      "cell_type": "code",
      "source": [
        "train_data_length = math.ceil(len(input_lstm)*0.8)\n",
        "input_train, output_train = input_lstm[:train_data_length], output_lstm[:train_data_length]\n",
        "print(\"Shape dados de treino: \", input_train.shape, output_train.shape)\n",
        "input_test, output_test = input_lstm[train_data_length:], output_lstm[train_data_length:]\n",
        "print(\"Shape dados de teste: \", input_test.shape, output_test.shape)"
      ],
      "metadata": {
        "id": "9pvQL-8RKwRl"
      },
      "execution_count": null,
      "outputs": []
    },
    {
      "cell_type": "code",
      "source": [
        "outputs = input_lstm_data['Close'][(train_data_length+window_size):]\n",
        "outputs = outputs.reset_index()\n",
        "rw = input_lstm_data['Close'].shift(1)\n",
        "rw = rw[(train_data_length+window_size):].reset_index()\n",
        "outputs['RW']=rw['Close']; outputs.shape"
      ],
      "metadata": {
        "id": "7xTj_k3SnTFS"
      },
      "execution_count": null,
      "outputs": []
    },
    {
      "cell_type": "markdown",
      "source": [
        "### Conferência (opcional)"
      ],
      "metadata": {
        "id": "T9MeX-epBSYL"
      }
    },
    {
      "cell_type": "code",
      "source": [
        "#Conferência manual das Métricas de erro para o modelo Random Walk, RW\n",
        "d = outputs['Close']-outputs['RW']\n",
        "mse_f = np.mean(d**2)\n",
        "mae_f = np.mean(abs(d))\n",
        "mape_f = np.mean(100*abs(d)/outputs['Close'])\n",
        "rmse_f = np.sqrt(mse_f)\n",
        "print(f'MAE: {mae_f}','\\n',f'RMSE: {rmse_f}','\\n',f'MAPE: {mape_f}')"
      ],
      "metadata": {
        "id": "awtZOV1Muo88"
      },
      "execution_count": null,
      "outputs": []
    },
    {
      "cell_type": "code",
      "source": [
        "#Conferência das Métricas de erro para RW via sklearn.metrics. Obs: os valores devem ser os mesmos do output anterior.\n",
        "mae_rw = mean_absolute_error(outputs['Close'], outputs['RW'])\n",
        "rmse_rw = mean_squared_error(outputs['Close'], outputs['RW']) ** 0.5\n",
        "mape_rw = 100*mean_absolute_percentage_error(outputs['Close'], outputs['RW'])\n",
        "print(f'MAE: {mae_rw}','\\n',f'RMSE: {rmse_rw}','\\n',f'MAPE: {mape_rw}')"
      ],
      "metadata": {
        "id": "lD2x0NOQxcjQ"
      },
      "execution_count": null,
      "outputs": []
    },
    {
      "cell_type": "markdown",
      "source": [
        "##**Normalização**"
      ],
      "metadata": {
        "id": "YGM8LqDaUFVC"
      }
    },
    {
      "cell_type": "code",
      "source": [
        "scaler = StandardScaler(); scaler2 = StandardScaler()\n",
        "input_train = scaler.fit_transform(input_train.reshape(-1, input_train.shape[-1])).reshape(input_train.shape)\n",
        "input_test = scaler.transform(input_test.reshape(-1, input_test.shape[-1])).reshape(input_test.shape)\n",
        "output_train = scaler2.fit_transform(output_train.reshape(-1, 1))\n",
        "output_test = scaler2.transform(output_test.reshape(-1, 1))"
      ],
      "metadata": {
        "id": "GRZl-mATQfHc"
      },
      "execution_count": null,
      "outputs": []
    },
    {
      "cell_type": "markdown",
      "source": [
        "## **Treinando modelo LSTM**"
      ],
      "metadata": {
        "id": "bBZY-Ogda2aN"
      }
    },
    {
      "cell_type": "code",
      "source": [
        "random.seed(seed=1234)\n",
        "model = Sequential()\n",
        "model.add(InputLayer((window_size, 37)))\n",
        "model.add(LSTM(128, activation='relu'))\n",
        "model.add(Dropout(0.2))\n",
        "model.add(Dense(1, 'linear'))\n",
        "model.summary()"
      ],
      "metadata": {
        "id": "7UFc2Zh6ON1Y"
      },
      "execution_count": null,
      "outputs": []
    },
    {
      "cell_type": "code",
      "source": [
        "# cp4 = ModelCheckpoint('model4/', save_best_only=True)\n",
        "model.compile(loss=MeanSquaredError(), optimizer=Adam(learning_rate=0.01), metrics=[RootMeanSquaredError()])\n",
        "history = model.fit(input_train, output_train, batch_size=64, epochs=100, validation_data=(input_test, output_test))"
      ],
      "metadata": {
        "id": "VXHV8PnsOt8s"
      },
      "execution_count": null,
      "outputs": []
    },
    {
      "cell_type": "markdown",
      "source": [
        "## **Pós processamento - Desfazendo a normalização**"
      ],
      "metadata": {
        "id": "E76nmJrIey6b"
      }
    },
    {
      "cell_type": "markdown",
      "source": [
        "## **Definindo predições com dados de teste e treino**"
      ],
      "metadata": {
        "id": "FmWXPhUebsZQ"
      }
    },
    {
      "cell_type": "code",
      "source": [
        "output_train_reverse = scaler2.inverse_transform(output_train.reshape(-1, 1))\n",
        "output_test_reverse = scaler2.inverse_transform(output_test.reshape(-1, 1))"
      ],
      "metadata": {
        "id": "eSm980zcdmC7"
      },
      "execution_count": null,
      "outputs": []
    },
    {
      "cell_type": "code",
      "source": [
        "train_predictions = model.predict(input_train)\n",
        "test_predictions = model.predict(input_test)"
      ],
      "metadata": {
        "id": "NNIvczwEbvfL"
      },
      "execution_count": null,
      "outputs": []
    },
    {
      "cell_type": "code",
      "source": [
        "train_predictions.shape"
      ],
      "metadata": {
        "id": "qyQhGYRZmwmw"
      },
      "execution_count": null,
      "outputs": []
    },
    {
      "cell_type": "code",
      "source": [
        "pred_train = scaler2.inverse_transform(train_predictions)\n",
        "pred_test = scaler2.inverse_transform(test_predictions)"
      ],
      "metadata": {
        "id": "CcvuHqtddAEY"
      },
      "execution_count": null,
      "outputs": []
    },
    {
      "cell_type": "markdown",
      "source": [
        "## **Cálculo das métricas do modelo LSTM**"
      ],
      "metadata": {
        "id": "M4o8rG9Gimy6"
      }
    },
    {
      "cell_type": "code",
      "source": [
        "mae_train = mean_absolute_error(output_train_reverse, pred_train)\n",
        "rmse_train = mean_squared_error(output_train_reverse, pred_train) ** 0.5\n",
        "mape_train = 100*mean_absolute_percentage_error(output_train_reverse, pred_train)\n",
        "\n",
        "mae_test = mean_absolute_error(output_test_reverse, pred_test)\n",
        "rmse_test = mean_squared_error(output_test_reverse, pred_test) ** 0.5\n",
        "mape_test = 100*mean_absolute_percentage_error(output_test_reverse, pred_test)\n",
        "\n",
        "data = [['MAE', mae_test],\n",
        "        ['MAPE', mape_test],\n",
        "        ['RMSE', rmse_test]]\n",
        "\n",
        "df_lstm_metrics = pd.DataFrame(data, columns=['Métrica', 'LSTM Teste'])"
      ],
      "metadata": {
        "id": "5oUHWcer2nHC"
      },
      "execution_count": null,
      "outputs": []
    },
    {
      "cell_type": "code",
      "source": [
        "df_lstm_metrics"
      ],
      "metadata": {
        "id": "VNv33gMc2f-7",
        "colab": {
          "base_uri": "https://localhost:8080/"
        },
        "outputId": "0edd0216-b0cf-4400-e254-d7b90f89e0f6"
      },
      "execution_count": null,
      "outputs": [
        {
          "output_type": "execute_result",
          "data": {
            "text/plain": [
              "  Métrica  LSTM Teste\n",
              "0     MAE    2.636894\n",
              "1    MAPE    9.431933\n",
              "2    RMSE    2.771302"
            ],
            "text/html": [
              "\n",
              "  <div id=\"df-1f279780-8858-4a46-bd0f-c35f7317815e\" class=\"colab-df-container\">\n",
              "    <div>\n",
              "<style scoped>\n",
              "    .dataframe tbody tr th:only-of-type {\n",
              "        vertical-align: middle;\n",
              "    }\n",
              "\n",
              "    .dataframe tbody tr th {\n",
              "        vertical-align: top;\n",
              "    }\n",
              "\n",
              "    .dataframe thead th {\n",
              "        text-align: right;\n",
              "    }\n",
              "</style>\n",
              "<table border=\"1\" class=\"dataframe\">\n",
              "  <thead>\n",
              "    <tr style=\"text-align: right;\">\n",
              "      <th></th>\n",
              "      <th>Métrica</th>\n",
              "      <th>LSTM Teste</th>\n",
              "    </tr>\n",
              "  </thead>\n",
              "  <tbody>\n",
              "    <tr>\n",
              "      <th>0</th>\n",
              "      <td>MAE</td>\n",
              "      <td>2.636894</td>\n",
              "    </tr>\n",
              "    <tr>\n",
              "      <th>1</th>\n",
              "      <td>MAPE</td>\n",
              "      <td>9.431933</td>\n",
              "    </tr>\n",
              "    <tr>\n",
              "      <th>2</th>\n",
              "      <td>RMSE</td>\n",
              "      <td>2.771302</td>\n",
              "    </tr>\n",
              "  </tbody>\n",
              "</table>\n",
              "</div>\n",
              "    <div class=\"colab-df-buttons\">\n",
              "\n",
              "  <div class=\"colab-df-container\">\n",
              "    <button class=\"colab-df-convert\" onclick=\"convertToInteractive('df-1f279780-8858-4a46-bd0f-c35f7317815e')\"\n",
              "            title=\"Convert this dataframe to an interactive table.\"\n",
              "            style=\"display:none;\">\n",
              "\n",
              "  <svg xmlns=\"http://www.w3.org/2000/svg\" height=\"24px\" viewBox=\"0 -960 960 960\">\n",
              "    <path d=\"M120-120v-720h720v720H120Zm60-500h600v-160H180v160Zm220 220h160v-160H400v160Zm0 220h160v-160H400v160ZM180-400h160v-160H180v160Zm440 0h160v-160H620v160ZM180-180h160v-160H180v160Zm440 0h160v-160H620v160Z\"/>\n",
              "  </svg>\n",
              "    </button>\n",
              "\n",
              "  <style>\n",
              "    .colab-df-container {\n",
              "      display:flex;\n",
              "      gap: 12px;\n",
              "    }\n",
              "\n",
              "    .colab-df-convert {\n",
              "      background-color: #E8F0FE;\n",
              "      border: none;\n",
              "      border-radius: 50%;\n",
              "      cursor: pointer;\n",
              "      display: none;\n",
              "      fill: #1967D2;\n",
              "      height: 32px;\n",
              "      padding: 0 0 0 0;\n",
              "      width: 32px;\n",
              "    }\n",
              "\n",
              "    .colab-df-convert:hover {\n",
              "      background-color: #E2EBFA;\n",
              "      box-shadow: 0px 1px 2px rgba(60, 64, 67, 0.3), 0px 1px 3px 1px rgba(60, 64, 67, 0.15);\n",
              "      fill: #174EA6;\n",
              "    }\n",
              "\n",
              "    .colab-df-buttons div {\n",
              "      margin-bottom: 4px;\n",
              "    }\n",
              "\n",
              "    [theme=dark] .colab-df-convert {\n",
              "      background-color: #3B4455;\n",
              "      fill: #D2E3FC;\n",
              "    }\n",
              "\n",
              "    [theme=dark] .colab-df-convert:hover {\n",
              "      background-color: #434B5C;\n",
              "      box-shadow: 0px 1px 3px 1px rgba(0, 0, 0, 0.15);\n",
              "      filter: drop-shadow(0px 1px 2px rgba(0, 0, 0, 0.3));\n",
              "      fill: #FFFFFF;\n",
              "    }\n",
              "  </style>\n",
              "\n",
              "    <script>\n",
              "      const buttonEl =\n",
              "        document.querySelector('#df-1f279780-8858-4a46-bd0f-c35f7317815e button.colab-df-convert');\n",
              "      buttonEl.style.display =\n",
              "        google.colab.kernel.accessAllowed ? 'block' : 'none';\n",
              "\n",
              "      async function convertToInteractive(key) {\n",
              "        const element = document.querySelector('#df-1f279780-8858-4a46-bd0f-c35f7317815e');\n",
              "        const dataTable =\n",
              "          await google.colab.kernel.invokeFunction('convertToInteractive',\n",
              "                                                    [key], {});\n",
              "        if (!dataTable) return;\n",
              "\n",
              "        const docLinkHtml = 'Like what you see? Visit the ' +\n",
              "          '<a target=\"_blank\" href=https://colab.research.google.com/notebooks/data_table.ipynb>data table notebook</a>'\n",
              "          + ' to learn more about interactive tables.';\n",
              "        element.innerHTML = '';\n",
              "        dataTable['output_type'] = 'display_data';\n",
              "        await google.colab.output.renderOutput(dataTable, element);\n",
              "        const docLink = document.createElement('div');\n",
              "        docLink.innerHTML = docLinkHtml;\n",
              "        element.appendChild(docLink);\n",
              "      }\n",
              "    </script>\n",
              "  </div>\n",
              "\n",
              "\n",
              "<div id=\"df-09a15e08-4f73-4e44-80dd-019bd5b9c870\">\n",
              "  <button class=\"colab-df-quickchart\" onclick=\"quickchart('df-09a15e08-4f73-4e44-80dd-019bd5b9c870')\"\n",
              "            title=\"Suggest charts\"\n",
              "            style=\"display:none;\">\n",
              "\n",
              "<svg xmlns=\"http://www.w3.org/2000/svg\" height=\"24px\"viewBox=\"0 0 24 24\"\n",
              "     width=\"24px\">\n",
              "    <g>\n",
              "        <path d=\"M19 3H5c-1.1 0-2 .9-2 2v14c0 1.1.9 2 2 2h14c1.1 0 2-.9 2-2V5c0-1.1-.9-2-2-2zM9 17H7v-7h2v7zm4 0h-2V7h2v10zm4 0h-2v-4h2v4z\"/>\n",
              "    </g>\n",
              "</svg>\n",
              "  </button>\n",
              "\n",
              "<style>\n",
              "  .colab-df-quickchart {\n",
              "      --bg-color: #E8F0FE;\n",
              "      --fill-color: #1967D2;\n",
              "      --hover-bg-color: #E2EBFA;\n",
              "      --hover-fill-color: #174EA6;\n",
              "      --disabled-fill-color: #AAA;\n",
              "      --disabled-bg-color: #DDD;\n",
              "  }\n",
              "\n",
              "  [theme=dark] .colab-df-quickchart {\n",
              "      --bg-color: #3B4455;\n",
              "      --fill-color: #D2E3FC;\n",
              "      --hover-bg-color: #434B5C;\n",
              "      --hover-fill-color: #FFFFFF;\n",
              "      --disabled-bg-color: #3B4455;\n",
              "      --disabled-fill-color: #666;\n",
              "  }\n",
              "\n",
              "  .colab-df-quickchart {\n",
              "    background-color: var(--bg-color);\n",
              "    border: none;\n",
              "    border-radius: 50%;\n",
              "    cursor: pointer;\n",
              "    display: none;\n",
              "    fill: var(--fill-color);\n",
              "    height: 32px;\n",
              "    padding: 0;\n",
              "    width: 32px;\n",
              "  }\n",
              "\n",
              "  .colab-df-quickchart:hover {\n",
              "    background-color: var(--hover-bg-color);\n",
              "    box-shadow: 0 1px 2px rgba(60, 64, 67, 0.3), 0 1px 3px 1px rgba(60, 64, 67, 0.15);\n",
              "    fill: var(--button-hover-fill-color);\n",
              "  }\n",
              "\n",
              "  .colab-df-quickchart-complete:disabled,\n",
              "  .colab-df-quickchart-complete:disabled:hover {\n",
              "    background-color: var(--disabled-bg-color);\n",
              "    fill: var(--disabled-fill-color);\n",
              "    box-shadow: none;\n",
              "  }\n",
              "\n",
              "  .colab-df-spinner {\n",
              "    border: 2px solid var(--fill-color);\n",
              "    border-color: transparent;\n",
              "    border-bottom-color: var(--fill-color);\n",
              "    animation:\n",
              "      spin 1s steps(1) infinite;\n",
              "  }\n",
              "\n",
              "  @keyframes spin {\n",
              "    0% {\n",
              "      border-color: transparent;\n",
              "      border-bottom-color: var(--fill-color);\n",
              "      border-left-color: var(--fill-color);\n",
              "    }\n",
              "    20% {\n",
              "      border-color: transparent;\n",
              "      border-left-color: var(--fill-color);\n",
              "      border-top-color: var(--fill-color);\n",
              "    }\n",
              "    30% {\n",
              "      border-color: transparent;\n",
              "      border-left-color: var(--fill-color);\n",
              "      border-top-color: var(--fill-color);\n",
              "      border-right-color: var(--fill-color);\n",
              "    }\n",
              "    40% {\n",
              "      border-color: transparent;\n",
              "      border-right-color: var(--fill-color);\n",
              "      border-top-color: var(--fill-color);\n",
              "    }\n",
              "    60% {\n",
              "      border-color: transparent;\n",
              "      border-right-color: var(--fill-color);\n",
              "    }\n",
              "    80% {\n",
              "      border-color: transparent;\n",
              "      border-right-color: var(--fill-color);\n",
              "      border-bottom-color: var(--fill-color);\n",
              "    }\n",
              "    90% {\n",
              "      border-color: transparent;\n",
              "      border-bottom-color: var(--fill-color);\n",
              "    }\n",
              "  }\n",
              "</style>\n",
              "\n",
              "  <script>\n",
              "    async function quickchart(key) {\n",
              "      const quickchartButtonEl =\n",
              "        document.querySelector('#' + key + ' button');\n",
              "      quickchartButtonEl.disabled = true;  // To prevent multiple clicks.\n",
              "      quickchartButtonEl.classList.add('colab-df-spinner');\n",
              "      try {\n",
              "        const charts = await google.colab.kernel.invokeFunction(\n",
              "            'suggestCharts', [key], {});\n",
              "      } catch (error) {\n",
              "        console.error('Error during call to suggestCharts:', error);\n",
              "      }\n",
              "      quickchartButtonEl.classList.remove('colab-df-spinner');\n",
              "      quickchartButtonEl.classList.add('colab-df-quickchart-complete');\n",
              "    }\n",
              "    (() => {\n",
              "      let quickchartButtonEl =\n",
              "        document.querySelector('#df-09a15e08-4f73-4e44-80dd-019bd5b9c870 button');\n",
              "      quickchartButtonEl.style.display =\n",
              "        google.colab.kernel.accessAllowed ? 'block' : 'none';\n",
              "    })();\n",
              "  </script>\n",
              "</div>\n",
              "    </div>\n",
              "  </div>\n"
            ]
          },
          "metadata": {},
          "execution_count": 169
        }
      ]
    },
    {
      "cell_type": "code",
      "source": [
        "mae_test1 = mean_absolute_error(outputs['Close'], pred_test)\n",
        "rmse_test1 = mean_squared_error(outputs['Close'], pred_test) ** 0.5\n",
        "mape_test1 = 100*mean_absolute_percentage_error(outputs['Close'], pred_test)\n",
        "\n",
        "data1 = [['MAE', mae_test1],\n",
        "        ['MAPE', mape_test1],\n",
        "        ['RMSE', rmse_test1]]\n",
        "\n",
        "df_lstm_metrics1 = pd.DataFrame(data1, columns=['Métrica', 'LSTM Teste']); df_lstm_metrics1"
      ],
      "metadata": {
        "id": "uHfn-h0xBrJk"
      },
      "execution_count": null,
      "outputs": []
    },
    {
      "cell_type": "markdown",
      "source": [
        "## **Cálculo das métricas Random Walk**"
      ],
      "metadata": {
        "id": "ZTqSaKQK32NN"
      }
    },
    {
      "cell_type": "code",
      "source": [
        "mae_rw = mean_absolute_error(outputs['Close'], outputs['RW'])\n",
        "rmse_rw = mean_squared_error(outputs['Close'], outputs['RW']) ** 0.5\n",
        "mape_rw = 100*mean_absolute_percentage_error(outputs['Close'], outputs['RW'])\n",
        "\n",
        "data = [['MAE', mae_rw],\n",
        "        ['MAPE', mape_rw],\n",
        "        ['RMSE', rmse_rw]]\n",
        "\n",
        "df_rw_metrics = pd.DataFrame(data, columns=['Métrica', 'RW'])"
      ],
      "metadata": {
        "id": "ie-RAOq137F8"
      },
      "execution_count": null,
      "outputs": []
    },
    {
      "cell_type": "code",
      "source": [
        "df_rw_metrics"
      ],
      "metadata": {
        "id": "DP2AP0zpjq6W"
      },
      "execution_count": null,
      "outputs": []
    },
    {
      "cell_type": "code",
      "source": [
        "df_metrics = pd.merge(df_lstm_metrics, df_rw_metrics, on='Métrica', how='inner')"
      ],
      "metadata": {
        "id": "5mi3cx8ekZA5"
      },
      "execution_count": null,
      "outputs": []
    },
    {
      "cell_type": "code",
      "source": [
        "df_metrics"
      ],
      "metadata": {
        "id": "aa5cQRhyJtSR"
      },
      "execution_count": null,
      "outputs": []
    },
    {
      "cell_type": "code",
      "source": [
        "import os\n",
        "path = f'/content/drive/MyDrive/ARTIGO_LSTM/outputs/{ativo}/'\n",
        "if not os.path.exists(path):\n",
        "   os.makedirs(path)\n",
        "df_metrics.to_csv(f'/content/drive/MyDrive/ARTIGO_LSTM/outputs/{ativo}/metrics_{window_size}_dias.csv', index=False)"
      ],
      "metadata": {
        "id": "dW0uln_EtA6k"
      },
      "execution_count": null,
      "outputs": []
    },
    {
      "cell_type": "code",
      "source": [
        "outputs['LSTM'] = pd.DataFrame(pred_test)\n",
        "outputs['Erro.RW'] = outputs['RW'] - outputs['Close']\n",
        "outputs['Erro.LSTM'] = outputs['LSTM'] - outputs['Close']#; outputs"
      ],
      "metadata": {
        "id": "iet1AcnssecS"
      },
      "execution_count": null,
      "outputs": []
    },
    {
      "cell_type": "code",
      "source": [
        "outputs.to_csv(path+f'outputs_{ativo}_{window_size}_dias.csv', sep=',', index=False)"
      ],
      "metadata": {
        "id": "_aAxjYEnt_M2"
      },
      "execution_count": null,
      "outputs": []
    },
    {
      "cell_type": "markdown",
      "source": [
        "### Figuras"
      ],
      "metadata": {
        "id": "Vfat67us4BsS"
      }
    },
    {
      "cell_type": "code",
      "source": [
        "## Loss Curve\n",
        "plt.plot(history.history['loss'], label='Treino')\n",
        "plt.plot(history.history['val_loss'], label='Teste')\n",
        "#plt.title('Training and Validation Loss Curves')\n",
        "plt.xlabel('Épocas')\n",
        "plt.ylabel('Perda')\n",
        "plt.legend()\n",
        "plt.savefig(path+f'fig1_loss_{ativo}_{window_size}_dias.png', dpi=300)\n",
        "#plt.show()"
      ],
      "metadata": {
        "id": "bTMEwme-1hXi"
      },
      "execution_count": null,
      "outputs": []
    },
    {
      "cell_type": "code",
      "source": [
        "#Dados de Treino\n",
        "plt.plot(output_train_reverse, label='Dados reais')\n",
        "plt.plot(pred_train, label='Previsões com dados de treino')\n",
        "plt.legend()\n",
        "plt.savefig(path+f'fig2_treino_{ativo}_{window_size}_dias.png', dpi=300)\n"
      ],
      "metadata": {
        "id": "HqemvJq44E3R"
      },
      "execution_count": null,
      "outputs": []
    },
    {
      "cell_type": "code",
      "source": [
        "#Dados de Teste\n",
        "plt.plot(outputs['Date'], outputs['Close'], label='Dados reais')\n",
        "plt.plot(outputs['Date'], outputs['RW'], label='Random Walk')\n",
        "plt.plot(outputs['Date'], outputs['LSTM'], label='LSTM')\n",
        "plt.xticks(rotation = 45) # Rotates X-Axis Ticks by 45-degrees\n",
        "plt.legend()\n",
        "plt.savefig(path+f'fig3_teste_{ativo}_{window_size}_dias.png', dpi=300)\n"
      ],
      "metadata": {
        "id": "9PnGoMLE4GOT"
      },
      "execution_count": null,
      "outputs": []
    },
    {
      "cell_type": "markdown",
      "source": [
        "## Testes de Significância"
      ],
      "metadata": {
        "id": "oDXvZsmr5_Wm"
      }
    },
    {
      "cell_type": "markdown",
      "source": [
        "### Diferenças nas previsões"
      ],
      "metadata": {
        "id": "weiNZ_H-6F-9"
      }
    },
    {
      "cell_type": "code",
      "source": [
        "!pip install -q -U dieboldmariano"
      ],
      "metadata": {
        "id": "3CaYqt1p_Y-I"
      },
      "execution_count": null,
      "outputs": []
    },
    {
      "cell_type": "code",
      "source": [
        "from dieboldmariano import dm_test"
      ],
      "metadata": {
        "id": "bZmkXLuh_sfj"
      },
      "execution_count": null,
      "outputs": []
    },
    {
      "cell_type": "code",
      "source": [
        "#Teste de Diebold-Mariano para MAPE\n",
        "DM_mape = dm_test(outputs['Close'],outputs['RW'],outputs['LSTM'], loss = lambda x, y: abs((x - y)/y), one_sided=False)\n",
        "\n",
        "#Teste de Diebold-Mariano para MAE\n",
        "DM_mae = dm_test(outputs['Close'],outputs['RW'],outputs['LSTM'], loss = lambda x, y: abs(x - y), one_sided=False)\n",
        "\n",
        "#Teste de Diebold-Mariano para MSE >> adotar para RMSE\n",
        "DM_mse = dm_test(outputs['Close'],outputs['RW'],outputs['LSTM'], one_sided=False)"
      ],
      "metadata": {
        "id": "lWUB1S55_uSp"
      },
      "execution_count": null,
      "outputs": []
    },
    {
      "cell_type": "code",
      "source": [
        "# Resultado do Teste\n",
        "##MAPE\n",
        "estat_mape = DM_mape[0];  p_mape = DM_mape[1]\n",
        "\n",
        "# Tomar decisão com base no valor p\n",
        "alpha = 0.05  # Nível de significância\n",
        "a = \"Rejeitar a hipótese nula - há evidências de diferença significativa entre as médias.\"\n",
        "b = \"Falha em rejeitar a hipótese nula - não há evidências suficientes de diferença significativa entre as médias.\"\n",
        "\n",
        "if p_mape < alpha:\n",
        "    result_mape = a\n",
        "else:\n",
        "    result_mape = b\n",
        "#print(result_mape)\n",
        "\n",
        "##MAE\n",
        "estat_mae = DM_mae[0];  p_mae = DM_mae[1]\n",
        "\n",
        "# Tomar decisão com base no valor p\n",
        "alpha = 0.05  # Nível de significância\n",
        "a = \"Rejeitar a hipótese nula - há evidências de diferença significativa entre as médias.\"\n",
        "b = \"Falha em rejeitar a hipótese nula - não há evidências suficientes de diferença significativa entre as médias.\"\n",
        "\n",
        "if p_mape < alpha:\n",
        "    result_mae = a\n",
        "else:\n",
        "    result_mae = b\n",
        "#print(result_mae)\n",
        "\n",
        "##MSE\n",
        "estat_mse = DM_mse[0];  p_mse = DM_mse[1]\n",
        "\n",
        "# Tomar decisão com base no valor p\n",
        "alpha = 0.05  # Nível de significância\n",
        "a = \"Rejeitar a hipótese nula - há evidências de diferença significativa entre as médias.\"\n",
        "b = \"Falha em rejeitar a hipótese nula - não há evidências suficientes de diferença significativa entre as médias.\"\n",
        "\n",
        "if p_mse < alpha:\n",
        "    result_mse = a\n",
        "else:\n",
        "    result_mse = b\n",
        "#print(result_mae)"
      ],
      "metadata": {
        "id": "Qyx37IqJEY8P"
      },
      "execution_count": null,
      "outputs": []
    },
    {
      "cell_type": "code",
      "source": [
        "lines = ['Diebold-Mariano Test', '\\n', f'Ativo analisado: {ativo}', '\\n',\n",
        "         f'Estatística do Teste para MAPE: {estat_mape}', f'p-valor: {p_mape}',\n",
        "         f'Resultado: {result_mape}','\\n',\n",
        "         f'Estatística do Teste para MAE: {estat_mae}', f'p-valor: {p_mae}',\n",
        "         f'Resultado: {result_mae}','\\n',\n",
        "         f'Estatística do Teste para RMSE: {estat_mse}', f'p-valor: {p_mse}',\n",
        "         f'Resultado: {result_mse}','\\n',]\n",
        "with open(path + f'teste-resultados_{ativo}_{window_size}.txt', 'w') as f:\n",
        "    f.write('\\n'.join(lines))"
      ],
      "metadata": {
        "id": "W14O1jg_GZDp"
      },
      "execution_count": null,
      "outputs": []
    }
  ]
}