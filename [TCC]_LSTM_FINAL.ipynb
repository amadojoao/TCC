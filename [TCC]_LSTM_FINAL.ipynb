{
  "nbformat": 4,
  "nbformat_minor": 0,
  "metadata": {
    "colab": {
      "provenance": [],
      "collapsed_sections": [
        "edJ3LWq0TvZy",
        "I4pkU2QZahyY",
        "KZ97P5uF9pxp",
        "2iP8Uf1y97ep",
        "Kgeeq_cnDkeQ",
        "OZL0qf3NS8Bh",
        "9SUcOcukRKYG",
        "xn4Gjn3KI1Bg",
        "tZZDQIDcYLGA",
        "YGM8LqDaUFVC",
        "bBZY-Ogda2aN",
        "FmWXPhUebsZQ",
        "M4o8rG9Gimy6",
        "ZTqSaKQK32NN",
        "weiNZ_H-6F-9"
      ]
    },
    "kernelspec": {
      "name": "python3",
      "display_name": "Python 3"
    },
    "language_info": {
      "name": "python"
    }
  },
  "cells": [
    {
      "cell_type": "markdown",
      "source": [
        "## **Preparando o ambiente - Instalações e Configurações**"
      ],
      "metadata": {
        "id": "mbEDNr969gpg"
      }
    },
    {
      "cell_type": "markdown",
      "source": [
        "### Bibliotecas"
      ],
      "metadata": {
        "id": "edJ3LWq0TvZy"
      }
    },
    {
      "cell_type": "code",
      "execution_count": null,
      "metadata": {
        "id": "XJCTi_jjn8WZ",
        "colab": {
          "base_uri": "https://localhost:8080/"
        },
        "outputId": "f4b21558-740c-40f4-b649-5c8e576c2097"
      },
      "outputs": [
        {
          "output_type": "stream",
          "name": "stdout",
          "text": [
            "\u001b[2K     \u001b[90m━━━━━━━━━━━━━━━━━━━━━━━━━━━━━━━━━━━━━━━━\u001b[0m \u001b[32m75.4/75.4 kB\u001b[0m \u001b[31m1.2 MB/s\u001b[0m eta \u001b[36m0:00:00\u001b[0m\n",
            "\u001b[2K     \u001b[90m━━━━━━━━━━━━━━━━━━━━━━━━━━━━━━━━━━━━━━━━\u001b[0m \u001b[32m12.3/12.3 MB\u001b[0m \u001b[31m21.7 MB/s\u001b[0m eta \u001b[36m0:00:00\u001b[0m\n",
            "\u001b[2K     \u001b[90m━━━━━━━━━━━━━━━━━━━━━━━━━━━━━━━━━━━━━━━━\u001b[0m \u001b[32m74.5/74.5 kB\u001b[0m \u001b[31m7.0 MB/s\u001b[0m eta \u001b[36m0:00:00\u001b[0m\n",
            "\u001b[2K     \u001b[90m━━━━━━━━━━━━━━━━━━━━━━━━━━━━━━━━━━━━━━━━\u001b[0m \u001b[32m341.8/341.8 kB\u001b[0m \u001b[31m23.2 MB/s\u001b[0m eta \u001b[36m0:00:00\u001b[0m\n",
            "\u001b[2K     \u001b[90m━━━━━━━━━━━━━━━━━━━━━━━━━━━━━━━━━━━━━━━━\u001b[0m \u001b[32m58.3/58.3 kB\u001b[0m \u001b[31m5.4 MB/s\u001b[0m eta \u001b[36m0:00:00\u001b[0m\n",
            "\u001b[?25h\u001b[31mERROR: pip's dependency resolver does not currently take into account all the packages that are installed. This behaviour is the source of the following dependency conflicts.\n",
            "lida 0.0.10 requires fastapi, which is not installed.\n",
            "lida 0.0.10 requires kaleido, which is not installed.\n",
            "lida 0.0.10 requires python-multipart, which is not installed.\n",
            "lida 0.0.10 requires uvicorn, which is not installed.\n",
            "google-colab 1.0.0 requires pandas==1.5.3, but you have pandas 2.1.3 which is incompatible.\u001b[0m\u001b[31m\n",
            "\u001b[0m  Preparing metadata (setup.py) ... \u001b[?25l\u001b[?25hdone\n",
            "  Building wheel for tvdatafeed (setup.py) ... \u001b[?25l\u001b[?25hdone\n",
            "Mounted at /content/drive\n"
          ]
        }
      ],
      "source": [
        "import warnings\n",
        "warnings.filterwarnings(\"ignore\")\n",
        "\n",
        "import requests\n",
        "from copy import deepcopy\n",
        "import datetime\n",
        "\n",
        "import math\n",
        "import yfinance as yf\n",
        "import numpy as np\n",
        "from numpy import random\n",
        "import pandas as pd\n",
        "from sklearn.preprocessing import StandardScaler\n",
        "from sklearn.preprocessing import MinMaxScaler\n",
        "import matplotlib.pyplot as plt\n",
        "plt.rcParams['font.family'] = 'serif'\n",
        "\n",
        "import tensorflow as tf\n",
        "from sklearn.metrics import mean_squared_error as mse\n",
        "from tensorflow import keras\n",
        "from tensorflow.keras import layers\n",
        "from tensorflow.keras.models import Sequential\n",
        "from tensorflow.keras.layers import *\n",
        "from tensorflow.keras.callbacks import ModelCheckpoint\n",
        "from tensorflow.keras.losses import MeanSquaredError\n",
        "from tensorflow.keras.metrics import RootMeanSquaredError\n",
        "from tensorflow.keras.optimizers import Adam\n",
        "\n",
        "from sklearn.metrics import (\n",
        "    mean_absolute_error,\n",
        "    mean_squared_error,\n",
        "    r2_score,\n",
        "    mean_absolute_percentage_error\n",
        ")\n",
        "\n",
        "\n",
        "# Importa as bibliotecas do banco central ##adjust\n",
        "!pip install -q -U python-bcb\n",
        "import seaborn as sns\n",
        "from bcb import sgs\n",
        "\n",
        "# Lib trading view ##adjust\n",
        "!pip install -q -U --upgrade --no-cache-dir git+https://github.com/rongardF/tvdatafeed.git\n",
        "from tvDatafeed import TvDatafeed, Interval\n",
        "\n",
        "# #Acesso ao Drive\n",
        "from google.colab import drive\n",
        "drive.mount('/content/drive')"
      ]
    },
    {
      "cell_type": "markdown",
      "source": [
        "### Parâmetros Ativo e Window_Size"
      ],
      "metadata": {
        "id": "4wP_QyrvTXsd"
      }
    },
    {
      "cell_type": "code",
      "source": [
        "ativo = 'SANB11.SA' # Ativos eletivos: 'BBAS3.SA', 'BBDC4.SA', 'BPAC11.SA', 'ITUB4.SA', 'SANB11.SA'\n",
        "window_size = 5"
      ],
      "metadata": {
        "id": "tFnC_nQ_TeZV"
      },
      "execution_count": null,
      "outputs": []
    },
    {
      "cell_type": "markdown",
      "source": [
        "## **Preparando o ambiente - Funções utilitárias**"
      ],
      "metadata": {
        "id": "I4pkU2QZahyY"
      }
    },
    {
      "cell_type": "code",
      "source": [
        "def str_to_datetime(s):\n",
        "  split = s.split('-')\n",
        "  year, month, day = int(split[0]), int(split[1]), int(split[2])\n",
        "  return datetime.datetime(year=year, month=month, day=day)"
      ],
      "metadata": {
        "id": "4CD6lRisTDiE"
      },
      "execution_count": null,
      "outputs": []
    },
    {
      "cell_type": "code",
      "source": [
        "# [[[c1, h1, ise1, ifnc1, camels1, cambio1], [c2...], [c3...], [c4...], [c5...]]] [c6]\n",
        "# [[[c2], [c3], [c4], [c5], [c6]]] [c7]\n",
        "# [[[c3], [c4], [c5], [c6], [c7]]] [c8]\n",
        "\n",
        "def cria_janela_modelo(df, window_size):\n",
        "  df_as_np = df.to_numpy()\n",
        "  X = [] #numero de exemplos de treino e numero de variaveis\n",
        "  y = []\n",
        "  for i in range(len(df_as_np)-window_size):\n",
        "    #listas de variaveis que será coletada do dataframe na coluna selecionada\n",
        "    row = [r for r in df_as_np[i:i+window_size]]\n",
        "    X.append(row)\n",
        "\n",
        "    #seleciona a primeira variavel do dataframe como label, que é a que será prevista em t+1. mudar referencia para 'Close' ##adjust\n",
        "    label = df_as_np[i+window_size][0]\n",
        "    y.append(label)\n",
        "\n",
        "  #saída da função será as variáveis de input(X) e output(y)\n",
        "  #shape das variaveis de saida:\n",
        "  #X = (numero de exemplos entrada de treino, tamanho da janela, numero de variaveis aux)\n",
        "  #y = (numero de exemplos de saída de treino, )\n",
        "  return np.array(X), np.array(y)"
      ],
      "metadata": {
        "id": "tS8dBvyNBoEX"
      },
      "execution_count": null,
      "outputs": []
    },
    {
      "cell_type": "code",
      "source": [
        "def reorganiza_colunas(df):\n",
        "  if 'Close' in df.columns:\n",
        "      nova_ordem_colunas = ['Close'] + [coluna for coluna in df.columns if coluna != 'Close']\n",
        "      df = df[nova_ordem_colunas]\n",
        "  return df"
      ],
      "metadata": {
        "id": "jXbxPrgoFdoD"
      },
      "execution_count": null,
      "outputs": []
    },
    {
      "cell_type": "markdown",
      "source": [
        "## **Buscando dados - Ativo**\n"
      ],
      "metadata": {
        "id": "KZ97P5uF9pxp"
      }
    },
    {
      "cell_type": "code",
      "source": [
        "start_date, end_date = '2020-01-01', '2023-07-31'\n",
        "data = yf.download(ativo, start=start_date, end=end_date)"
      ],
      "metadata": {
        "id": "MstlV111ppCP",
        "colab": {
          "base_uri": "https://localhost:8080/"
        },
        "outputId": "9e4d8580-a139-44bc-ddaa-d6fdb3b35618"
      },
      "execution_count": null,
      "outputs": [
        {
          "output_type": "stream",
          "name": "stdout",
          "text": [
            "\r[*********************100%%**********************]  1 of 1 completed\n"
          ]
        }
      ]
    },
    {
      "cell_type": "markdown",
      "source": [
        "## **Buscando dados - Indicadores (ISE, IFNC e BVSP)**"
      ],
      "metadata": {
        "id": "2iP8Uf1y97ep"
      }
    },
    {
      "cell_type": "code",
      "source": [
        "username = 'oantenor'; password = 'antrading1q2w3e4r'\n",
        "tv = TvDatafeed(username, password)\n",
        "\n",
        "#ise\n",
        "isedata = tv.get_hist(symbol='ISEE',\n",
        "                 exchange='BMFBOVESPA',interval=Interval.in_daily,n_bars=10000)\n",
        "isedata.index = pd.to_datetime(isedata.index).date\n",
        "ISE = pd.DataFrame(); ISE['ISE'] = isedata['close']\n",
        "\n",
        "#ifnc\n",
        "ifncdata = tv.get_hist(\n",
        "                       symbol='IFNC',\n",
        "                       exchange='BMFBOVESPA',\n",
        "                       interval=Interval.in_daily,n_bars=10000)\n",
        "ifncdata.index = pd.to_datetime(ifncdata.index).date\n",
        "IFNC = pd.DataFrame(); IFNC['IFNC'] = ifncdata['close']"
      ],
      "metadata": {
        "id": "gIovJwYq-VMK",
        "colab": {
          "base_uri": "https://localhost:8080/"
        },
        "outputId": "f276b247-f838-4bb4-8f85-4e431b792054"
      },
      "execution_count": null,
      "outputs": [
        {
          "output_type": "stream",
          "name": "stderr",
          "text": [
            "ERROR:tvDatafeed.main:error while signin\n",
            "WARNING:tvDatafeed.main:you are using nologin method, data you access may be limited\n"
          ]
        }
      ]
    },
    {
      "cell_type": "code",
      "source": [
        "bvsp = yf.download('^BVSP', start=start_date, end=end_date)"
      ],
      "metadata": {
        "id": "32mFa0ExpkQf",
        "colab": {
          "base_uri": "https://localhost:8080/"
        },
        "outputId": "80f0518c-4f0f-4017-e1f0-5b72e82a8a0f"
      },
      "execution_count": null,
      "outputs": [
        {
          "output_type": "stream",
          "name": "stdout",
          "text": [
            "\r[*********************100%%**********************]  1 of 1 completed\n"
          ]
        }
      ]
    },
    {
      "cell_type": "markdown",
      "source": [
        "## **Buscando dados - Taxa de Juros, Cambio**"
      ],
      "metadata": {
        "id": "Kgeeq_cnDkeQ"
      }
    },
    {
      "cell_type": "code",
      "source": [
        "selic = sgs.get({'selic':432}, start = start_date)"
      ],
      "metadata": {
        "id": "wJW1ViShD4DW"
      },
      "execution_count": null,
      "outputs": []
    },
    {
      "cell_type": "code",
      "source": [
        "taxa_cambio = yf.download('BRLUSD=X', start=start_date, end=end_date)"
      ],
      "metadata": {
        "id": "8V0ietFdZV9S",
        "colab": {
          "base_uri": "https://localhost:8080/"
        },
        "outputId": "d5daaaca-d867-432e-8004-fba456b54b16"
      },
      "execution_count": null,
      "outputs": [
        {
          "output_type": "stream",
          "name": "stdout",
          "text": [
            "\r[*********************100%%**********************]  1 of 1 completed\n"
          ]
        }
      ]
    },
    {
      "cell_type": "markdown",
      "source": [
        "## **Carregando variáveis CAMELS**"
      ],
      "metadata": {
        "id": "OZL0qf3NS8Bh"
      }
    },
    {
      "cell_type": "code",
      "source": [
        "camels = pd.read_csv(f'/content/drive/MyDrive/ARTIGO_LSTM/camels_bancos/{ativo}_full.csv')\n",
        "# camels = pd.read_csv('df_itau_full.csv')\n",
        "camels['Data'] = camels['Data'].apply(str_to_datetime)\n",
        "camels = camels.rename(columns={'Data': 'Date'})"
      ],
      "metadata": {
        "id": "zh7nNW8pTMDw"
      },
      "execution_count": null,
      "outputs": []
    },
    {
      "cell_type": "markdown",
      "source": [
        "## **Definindo dataframe que será utilizado**"
      ],
      "metadata": {
        "id": "9SUcOcukRKYG"
      }
    },
    {
      "cell_type": "code",
      "source": [
        "micro_macro_df = data\n",
        "micro_macro_df['ise'] = isedata['close']\n",
        "micro_macro_df['ifnc'] = ifncdata['close']\n",
        "micro_macro_df['selic'] = selic['selic']\n",
        "micro_macro_df['taxa_cambio'] = taxa_cambio['Close']\n",
        "micro_macro_df['bvsp'] = bvsp['Close']"
      ],
      "metadata": {
        "id": "kOj5S0qAc3eU"
      },
      "execution_count": null,
      "outputs": []
    },
    {
      "cell_type": "code",
      "source": [
        "input_lstm_data = micro_macro_df.dropna()"
      ],
      "metadata": {
        "id": "szc04RMPdEJS"
      },
      "execution_count": null,
      "outputs": []
    },
    {
      "cell_type": "code",
      "source": [
        "input_lstm_data = pd.merge(micro_macro_df, camels, on='Date', how='inner')"
      ],
      "metadata": {
        "id": "yD4p9czoUbO2"
      },
      "execution_count": null,
      "outputs": []
    },
    {
      "cell_type": "code",
      "source": [
        "input_lstm_data = input_lstm_data.dropna()\n",
        "input_lstm_data.index = input_lstm_data.pop('Date')\n",
        "input_lstm_data = reorganiza_colunas(input_lstm_data)\n",
        "input_lstm_data.head(7)"
      ],
      "metadata": {
        "id": "o6hdhhvfdR40",
        "colab": {
          "base_uri": "https://localhost:8080/"
        },
        "outputId": "e8d9ea24-4d75-48ea-b1e5-566c688f8516"
      },
      "execution_count": null,
      "outputs": [
        {
          "output_type": "execute_result",
          "data": {
            "text/plain": [
              "                Close       Open       High        Low  Adj Close   Volume  \\\n",
              "Date                                                                         \n",
              "2020-01-02  51.040001  50.000000  51.549999  49.820000  38.901329  1752000   \n",
              "2020-01-03  51.009998  50.520000  51.330002  50.509998  38.878445  1346800   \n",
              "2020-01-06  47.509998  48.310001  48.660000  47.349998  37.759090  1303400   \n",
              "2020-01-07  47.410000  47.599998  47.980000  47.060001  37.679615  1086400   \n",
              "2020-01-08  47.040001  47.560001  47.740002  46.599998  37.385548   629300   \n",
              "2020-01-09  46.150002  46.880001  47.360001  46.009998  36.678215   987700   \n",
              "2020-01-10  45.950001  46.400002  46.770000  45.910000  36.519268   776000   \n",
              "\n",
              "                  ise      ifnc  selic  taxa_cambio  ...    e_roe    e_oroa  \\\n",
              "Date                                                 ...                      \n",
              "2020-01-02  4203.7002  13612.13    4.5     0.248985  ...  0.02008  0.001394   \n",
              "2020-01-03  4210.3701  13505.56    4.5     0.248546  ...  0.02008  0.001394   \n",
              "2020-01-06  4173.0200  13374.46    4.5     0.246488  ...  0.02008  0.001394   \n",
              "2020-01-07  4170.8198  13299.94    4.5     0.246281  ...  0.02008  0.001394   \n",
              "2020-01-08  4167.1001  13160.53    4.5     0.245930  ...  0.02008  0.001394   \n",
              "2020-01-09  4154.4902  13036.25    4.5     0.246136  ...  0.02008  0.001394   \n",
              "2020-01-10  4166.4102  12901.07    4.5     0.244373  ...  0.02008  0.001394   \n",
              "\n",
              "              e_oroe  i_deposscapt  i_liquidsta  i_liquidscapt  i_deposta  \\\n",
              "Date                                                                        \n",
              "2020-01-02  0.020012      0.335091     0.421128       0.453331   0.311287   \n",
              "2020-01-03  0.020012      0.335091     0.421128       0.453331   0.311287   \n",
              "2020-01-06  0.020012      0.335091     0.421128       0.453331   0.311287   \n",
              "2020-01-07  0.020012      0.335091     0.421128       0.453331   0.311287   \n",
              "2020-01-08  0.020012      0.335091     0.421128       0.453331   0.311287   \n",
              "2020-01-09  0.020012      0.335091     0.421128       0.453331   0.311287   \n",
              "2020-01-10  0.020012      0.335091     0.421128       0.453331   0.311287   \n",
              "\n",
              "            i_depexig  s_expmoes  s_expJur  \n",
              "Date                                        \n",
              "2020-01-02   0.335106   0.175022  0.011219  \n",
              "2020-01-03   0.335106   0.175022  0.011219  \n",
              "2020-01-06   0.335106   0.175022  0.011219  \n",
              "2020-01-07   0.335106   0.175022  0.011219  \n",
              "2020-01-08   0.335106   0.175022  0.011219  \n",
              "2020-01-09   0.335106   0.175022  0.011219  \n",
              "2020-01-10   0.335106   0.175022  0.011219  \n",
              "\n",
              "[7 rows x 37 columns]"
            ],
            "text/html": [
              "\n",
              "  <div id=\"df-a7cd6e9a-1b6d-4f5b-ad8b-965e049d161c\" class=\"colab-df-container\">\n",
              "    <div>\n",
              "<style scoped>\n",
              "    .dataframe tbody tr th:only-of-type {\n",
              "        vertical-align: middle;\n",
              "    }\n",
              "\n",
              "    .dataframe tbody tr th {\n",
              "        vertical-align: top;\n",
              "    }\n",
              "\n",
              "    .dataframe thead th {\n",
              "        text-align: right;\n",
              "    }\n",
              "</style>\n",
              "<table border=\"1\" class=\"dataframe\">\n",
              "  <thead>\n",
              "    <tr style=\"text-align: right;\">\n",
              "      <th></th>\n",
              "      <th>Close</th>\n",
              "      <th>Open</th>\n",
              "      <th>High</th>\n",
              "      <th>Low</th>\n",
              "      <th>Adj Close</th>\n",
              "      <th>Volume</th>\n",
              "      <th>ise</th>\n",
              "      <th>ifnc</th>\n",
              "      <th>selic</th>\n",
              "      <th>taxa_cambio</th>\n",
              "      <th>...</th>\n",
              "      <th>e_roe</th>\n",
              "      <th>e_oroa</th>\n",
              "      <th>e_oroe</th>\n",
              "      <th>i_deposscapt</th>\n",
              "      <th>i_liquidsta</th>\n",
              "      <th>i_liquidscapt</th>\n",
              "      <th>i_deposta</th>\n",
              "      <th>i_depexig</th>\n",
              "      <th>s_expmoes</th>\n",
              "      <th>s_expJur</th>\n",
              "    </tr>\n",
              "    <tr>\n",
              "      <th>Date</th>\n",
              "      <th></th>\n",
              "      <th></th>\n",
              "      <th></th>\n",
              "      <th></th>\n",
              "      <th></th>\n",
              "      <th></th>\n",
              "      <th></th>\n",
              "      <th></th>\n",
              "      <th></th>\n",
              "      <th></th>\n",
              "      <th></th>\n",
              "      <th></th>\n",
              "      <th></th>\n",
              "      <th></th>\n",
              "      <th></th>\n",
              "      <th></th>\n",
              "      <th></th>\n",
              "      <th></th>\n",
              "      <th></th>\n",
              "      <th></th>\n",
              "      <th></th>\n",
              "    </tr>\n",
              "  </thead>\n",
              "  <tbody>\n",
              "    <tr>\n",
              "      <th>2020-01-02</th>\n",
              "      <td>51.040001</td>\n",
              "      <td>50.000000</td>\n",
              "      <td>51.549999</td>\n",
              "      <td>49.820000</td>\n",
              "      <td>38.901329</td>\n",
              "      <td>1752000</td>\n",
              "      <td>4203.7002</td>\n",
              "      <td>13612.13</td>\n",
              "      <td>4.5</td>\n",
              "      <td>0.248985</td>\n",
              "      <td>...</td>\n",
              "      <td>0.02008</td>\n",
              "      <td>0.001394</td>\n",
              "      <td>0.020012</td>\n",
              "      <td>0.335091</td>\n",
              "      <td>0.421128</td>\n",
              "      <td>0.453331</td>\n",
              "      <td>0.311287</td>\n",
              "      <td>0.335106</td>\n",
              "      <td>0.175022</td>\n",
              "      <td>0.011219</td>\n",
              "    </tr>\n",
              "    <tr>\n",
              "      <th>2020-01-03</th>\n",
              "      <td>51.009998</td>\n",
              "      <td>50.520000</td>\n",
              "      <td>51.330002</td>\n",
              "      <td>50.509998</td>\n",
              "      <td>38.878445</td>\n",
              "      <td>1346800</td>\n",
              "      <td>4210.3701</td>\n",
              "      <td>13505.56</td>\n",
              "      <td>4.5</td>\n",
              "      <td>0.248546</td>\n",
              "      <td>...</td>\n",
              "      <td>0.02008</td>\n",
              "      <td>0.001394</td>\n",
              "      <td>0.020012</td>\n",
              "      <td>0.335091</td>\n",
              "      <td>0.421128</td>\n",
              "      <td>0.453331</td>\n",
              "      <td>0.311287</td>\n",
              "      <td>0.335106</td>\n",
              "      <td>0.175022</td>\n",
              "      <td>0.011219</td>\n",
              "    </tr>\n",
              "    <tr>\n",
              "      <th>2020-01-06</th>\n",
              "      <td>47.509998</td>\n",
              "      <td>48.310001</td>\n",
              "      <td>48.660000</td>\n",
              "      <td>47.349998</td>\n",
              "      <td>37.759090</td>\n",
              "      <td>1303400</td>\n",
              "      <td>4173.0200</td>\n",
              "      <td>13374.46</td>\n",
              "      <td>4.5</td>\n",
              "      <td>0.246488</td>\n",
              "      <td>...</td>\n",
              "      <td>0.02008</td>\n",
              "      <td>0.001394</td>\n",
              "      <td>0.020012</td>\n",
              "      <td>0.335091</td>\n",
              "      <td>0.421128</td>\n",
              "      <td>0.453331</td>\n",
              "      <td>0.311287</td>\n",
              "      <td>0.335106</td>\n",
              "      <td>0.175022</td>\n",
              "      <td>0.011219</td>\n",
              "    </tr>\n",
              "    <tr>\n",
              "      <th>2020-01-07</th>\n",
              "      <td>47.410000</td>\n",
              "      <td>47.599998</td>\n",
              "      <td>47.980000</td>\n",
              "      <td>47.060001</td>\n",
              "      <td>37.679615</td>\n",
              "      <td>1086400</td>\n",
              "      <td>4170.8198</td>\n",
              "      <td>13299.94</td>\n",
              "      <td>4.5</td>\n",
              "      <td>0.246281</td>\n",
              "      <td>...</td>\n",
              "      <td>0.02008</td>\n",
              "      <td>0.001394</td>\n",
              "      <td>0.020012</td>\n",
              "      <td>0.335091</td>\n",
              "      <td>0.421128</td>\n",
              "      <td>0.453331</td>\n",
              "      <td>0.311287</td>\n",
              "      <td>0.335106</td>\n",
              "      <td>0.175022</td>\n",
              "      <td>0.011219</td>\n",
              "    </tr>\n",
              "    <tr>\n",
              "      <th>2020-01-08</th>\n",
              "      <td>47.040001</td>\n",
              "      <td>47.560001</td>\n",
              "      <td>47.740002</td>\n",
              "      <td>46.599998</td>\n",
              "      <td>37.385548</td>\n",
              "      <td>629300</td>\n",
              "      <td>4167.1001</td>\n",
              "      <td>13160.53</td>\n",
              "      <td>4.5</td>\n",
              "      <td>0.245930</td>\n",
              "      <td>...</td>\n",
              "      <td>0.02008</td>\n",
              "      <td>0.001394</td>\n",
              "      <td>0.020012</td>\n",
              "      <td>0.335091</td>\n",
              "      <td>0.421128</td>\n",
              "      <td>0.453331</td>\n",
              "      <td>0.311287</td>\n",
              "      <td>0.335106</td>\n",
              "      <td>0.175022</td>\n",
              "      <td>0.011219</td>\n",
              "    </tr>\n",
              "    <tr>\n",
              "      <th>2020-01-09</th>\n",
              "      <td>46.150002</td>\n",
              "      <td>46.880001</td>\n",
              "      <td>47.360001</td>\n",
              "      <td>46.009998</td>\n",
              "      <td>36.678215</td>\n",
              "      <td>987700</td>\n",
              "      <td>4154.4902</td>\n",
              "      <td>13036.25</td>\n",
              "      <td>4.5</td>\n",
              "      <td>0.246136</td>\n",
              "      <td>...</td>\n",
              "      <td>0.02008</td>\n",
              "      <td>0.001394</td>\n",
              "      <td>0.020012</td>\n",
              "      <td>0.335091</td>\n",
              "      <td>0.421128</td>\n",
              "      <td>0.453331</td>\n",
              "      <td>0.311287</td>\n",
              "      <td>0.335106</td>\n",
              "      <td>0.175022</td>\n",
              "      <td>0.011219</td>\n",
              "    </tr>\n",
              "    <tr>\n",
              "      <th>2020-01-10</th>\n",
              "      <td>45.950001</td>\n",
              "      <td>46.400002</td>\n",
              "      <td>46.770000</td>\n",
              "      <td>45.910000</td>\n",
              "      <td>36.519268</td>\n",
              "      <td>776000</td>\n",
              "      <td>4166.4102</td>\n",
              "      <td>12901.07</td>\n",
              "      <td>4.5</td>\n",
              "      <td>0.244373</td>\n",
              "      <td>...</td>\n",
              "      <td>0.02008</td>\n",
              "      <td>0.001394</td>\n",
              "      <td>0.020012</td>\n",
              "      <td>0.335091</td>\n",
              "      <td>0.421128</td>\n",
              "      <td>0.453331</td>\n",
              "      <td>0.311287</td>\n",
              "      <td>0.335106</td>\n",
              "      <td>0.175022</td>\n",
              "      <td>0.011219</td>\n",
              "    </tr>\n",
              "  </tbody>\n",
              "</table>\n",
              "<p>7 rows × 37 columns</p>\n",
              "</div>\n",
              "    <div class=\"colab-df-buttons\">\n",
              "\n",
              "  <div class=\"colab-df-container\">\n",
              "    <button class=\"colab-df-convert\" onclick=\"convertToInteractive('df-a7cd6e9a-1b6d-4f5b-ad8b-965e049d161c')\"\n",
              "            title=\"Convert this dataframe to an interactive table.\"\n",
              "            style=\"display:none;\">\n",
              "\n",
              "  <svg xmlns=\"http://www.w3.org/2000/svg\" height=\"24px\" viewBox=\"0 -960 960 960\">\n",
              "    <path d=\"M120-120v-720h720v720H120Zm60-500h600v-160H180v160Zm220 220h160v-160H400v160Zm0 220h160v-160H400v160ZM180-400h160v-160H180v160Zm440 0h160v-160H620v160ZM180-180h160v-160H180v160Zm440 0h160v-160H620v160Z\"/>\n",
              "  </svg>\n",
              "    </button>\n",
              "\n",
              "  <style>\n",
              "    .colab-df-container {\n",
              "      display:flex;\n",
              "      gap: 12px;\n",
              "    }\n",
              "\n",
              "    .colab-df-convert {\n",
              "      background-color: #E8F0FE;\n",
              "      border: none;\n",
              "      border-radius: 50%;\n",
              "      cursor: pointer;\n",
              "      display: none;\n",
              "      fill: #1967D2;\n",
              "      height: 32px;\n",
              "      padding: 0 0 0 0;\n",
              "      width: 32px;\n",
              "    }\n",
              "\n",
              "    .colab-df-convert:hover {\n",
              "      background-color: #E2EBFA;\n",
              "      box-shadow: 0px 1px 2px rgba(60, 64, 67, 0.3), 0px 1px 3px 1px rgba(60, 64, 67, 0.15);\n",
              "      fill: #174EA6;\n",
              "    }\n",
              "\n",
              "    .colab-df-buttons div {\n",
              "      margin-bottom: 4px;\n",
              "    }\n",
              "\n",
              "    [theme=dark] .colab-df-convert {\n",
              "      background-color: #3B4455;\n",
              "      fill: #D2E3FC;\n",
              "    }\n",
              "\n",
              "    [theme=dark] .colab-df-convert:hover {\n",
              "      background-color: #434B5C;\n",
              "      box-shadow: 0px 1px 3px 1px rgba(0, 0, 0, 0.15);\n",
              "      filter: drop-shadow(0px 1px 2px rgba(0, 0, 0, 0.3));\n",
              "      fill: #FFFFFF;\n",
              "    }\n",
              "  </style>\n",
              "\n",
              "    <script>\n",
              "      const buttonEl =\n",
              "        document.querySelector('#df-a7cd6e9a-1b6d-4f5b-ad8b-965e049d161c button.colab-df-convert');\n",
              "      buttonEl.style.display =\n",
              "        google.colab.kernel.accessAllowed ? 'block' : 'none';\n",
              "\n",
              "      async function convertToInteractive(key) {\n",
              "        const element = document.querySelector('#df-a7cd6e9a-1b6d-4f5b-ad8b-965e049d161c');\n",
              "        const dataTable =\n",
              "          await google.colab.kernel.invokeFunction('convertToInteractive',\n",
              "                                                    [key], {});\n",
              "        if (!dataTable) return;\n",
              "\n",
              "        const docLinkHtml = 'Like what you see? Visit the ' +\n",
              "          '<a target=\"_blank\" href=https://colab.research.google.com/notebooks/data_table.ipynb>data table notebook</a>'\n",
              "          + ' to learn more about interactive tables.';\n",
              "        element.innerHTML = '';\n",
              "        dataTable['output_type'] = 'display_data';\n",
              "        await google.colab.output.renderOutput(dataTable, element);\n",
              "        const docLink = document.createElement('div');\n",
              "        docLink.innerHTML = docLinkHtml;\n",
              "        element.appendChild(docLink);\n",
              "      }\n",
              "    </script>\n",
              "  </div>\n",
              "\n",
              "\n",
              "<div id=\"df-5200da1b-6c63-4d34-b5eb-3289abd90712\">\n",
              "  <button class=\"colab-df-quickchart\" onclick=\"quickchart('df-5200da1b-6c63-4d34-b5eb-3289abd90712')\"\n",
              "            title=\"Suggest charts\"\n",
              "            style=\"display:none;\">\n",
              "\n",
              "<svg xmlns=\"http://www.w3.org/2000/svg\" height=\"24px\"viewBox=\"0 0 24 24\"\n",
              "     width=\"24px\">\n",
              "    <g>\n",
              "        <path d=\"M19 3H5c-1.1 0-2 .9-2 2v14c0 1.1.9 2 2 2h14c1.1 0 2-.9 2-2V5c0-1.1-.9-2-2-2zM9 17H7v-7h2v7zm4 0h-2V7h2v10zm4 0h-2v-4h2v4z\"/>\n",
              "    </g>\n",
              "</svg>\n",
              "  </button>\n",
              "\n",
              "<style>\n",
              "  .colab-df-quickchart {\n",
              "      --bg-color: #E8F0FE;\n",
              "      --fill-color: #1967D2;\n",
              "      --hover-bg-color: #E2EBFA;\n",
              "      --hover-fill-color: #174EA6;\n",
              "      --disabled-fill-color: #AAA;\n",
              "      --disabled-bg-color: #DDD;\n",
              "  }\n",
              "\n",
              "  [theme=dark] .colab-df-quickchart {\n",
              "      --bg-color: #3B4455;\n",
              "      --fill-color: #D2E3FC;\n",
              "      --hover-bg-color: #434B5C;\n",
              "      --hover-fill-color: #FFFFFF;\n",
              "      --disabled-bg-color: #3B4455;\n",
              "      --disabled-fill-color: #666;\n",
              "  }\n",
              "\n",
              "  .colab-df-quickchart {\n",
              "    background-color: var(--bg-color);\n",
              "    border: none;\n",
              "    border-radius: 50%;\n",
              "    cursor: pointer;\n",
              "    display: none;\n",
              "    fill: var(--fill-color);\n",
              "    height: 32px;\n",
              "    padding: 0;\n",
              "    width: 32px;\n",
              "  }\n",
              "\n",
              "  .colab-df-quickchart:hover {\n",
              "    background-color: var(--hover-bg-color);\n",
              "    box-shadow: 0 1px 2px rgba(60, 64, 67, 0.3), 0 1px 3px 1px rgba(60, 64, 67, 0.15);\n",
              "    fill: var(--button-hover-fill-color);\n",
              "  }\n",
              "\n",
              "  .colab-df-quickchart-complete:disabled,\n",
              "  .colab-df-quickchart-complete:disabled:hover {\n",
              "    background-color: var(--disabled-bg-color);\n",
              "    fill: var(--disabled-fill-color);\n",
              "    box-shadow: none;\n",
              "  }\n",
              "\n",
              "  .colab-df-spinner {\n",
              "    border: 2px solid var(--fill-color);\n",
              "    border-color: transparent;\n",
              "    border-bottom-color: var(--fill-color);\n",
              "    animation:\n",
              "      spin 1s steps(1) infinite;\n",
              "  }\n",
              "\n",
              "  @keyframes spin {\n",
              "    0% {\n",
              "      border-color: transparent;\n",
              "      border-bottom-color: var(--fill-color);\n",
              "      border-left-color: var(--fill-color);\n",
              "    }\n",
              "    20% {\n",
              "      border-color: transparent;\n",
              "      border-left-color: var(--fill-color);\n",
              "      border-top-color: var(--fill-color);\n",
              "    }\n",
              "    30% {\n",
              "      border-color: transparent;\n",
              "      border-left-color: var(--fill-color);\n",
              "      border-top-color: var(--fill-color);\n",
              "      border-right-color: var(--fill-color);\n",
              "    }\n",
              "    40% {\n",
              "      border-color: transparent;\n",
              "      border-right-color: var(--fill-color);\n",
              "      border-top-color: var(--fill-color);\n",
              "    }\n",
              "    60% {\n",
              "      border-color: transparent;\n",
              "      border-right-color: var(--fill-color);\n",
              "    }\n",
              "    80% {\n",
              "      border-color: transparent;\n",
              "      border-right-color: var(--fill-color);\n",
              "      border-bottom-color: var(--fill-color);\n",
              "    }\n",
              "    90% {\n",
              "      border-color: transparent;\n",
              "      border-bottom-color: var(--fill-color);\n",
              "    }\n",
              "  }\n",
              "</style>\n",
              "\n",
              "  <script>\n",
              "    async function quickchart(key) {\n",
              "      const quickchartButtonEl =\n",
              "        document.querySelector('#' + key + ' button');\n",
              "      quickchartButtonEl.disabled = true;  // To prevent multiple clicks.\n",
              "      quickchartButtonEl.classList.add('colab-df-spinner');\n",
              "      try {\n",
              "        const charts = await google.colab.kernel.invokeFunction(\n",
              "            'suggestCharts', [key], {});\n",
              "      } catch (error) {\n",
              "        console.error('Error during call to suggestCharts:', error);\n",
              "      }\n",
              "      quickchartButtonEl.classList.remove('colab-df-spinner');\n",
              "      quickchartButtonEl.classList.add('colab-df-quickchart-complete');\n",
              "    }\n",
              "    (() => {\n",
              "      let quickchartButtonEl =\n",
              "        document.querySelector('#df-5200da1b-6c63-4d34-b5eb-3289abd90712 button');\n",
              "      quickchartButtonEl.style.display =\n",
              "        google.colab.kernel.accessAllowed ? 'block' : 'none';\n",
              "    })();\n",
              "  </script>\n",
              "</div>\n",
              "    </div>\n",
              "  </div>\n"
            ]
          },
          "metadata": {},
          "execution_count": 153
        }
      ]
    },
    {
      "cell_type": "markdown",
      "source": [
        "##**Definindo a janela de previsão**\n"
      ],
      "metadata": {
        "id": "xn4Gjn3KI1Bg"
      }
    },
    {
      "cell_type": "code",
      "source": [
        "input_lstm_data.shape"
      ],
      "metadata": {
        "id": "eyz5zr7s1VSw",
        "colab": {
          "base_uri": "https://localhost:8080/"
        },
        "outputId": "edcbc4ea-e07e-4c57-c6c5-15a2cdef539b"
      },
      "execution_count": null,
      "outputs": [
        {
          "output_type": "execute_result",
          "data": {
            "text/plain": [
              "(888, 37)"
            ]
          },
          "metadata": {},
          "execution_count": 154
        }
      ]
    },
    {
      "cell_type": "code",
      "source": [
        "#dataframe de dados, tamanho da janela\n",
        "input_lstm, output_lstm = cria_janela_modelo(input_lstm_data, window_size)"
      ],
      "metadata": {
        "id": "BaNg25dgD6Mp"
      },
      "execution_count": null,
      "outputs": []
    },
    {
      "cell_type": "code",
      "source": [
        "#tamanho da amostra, tamanho da janela, numero de variaveis de interesse\n",
        "input_lstm.shape, output_lstm.shape"
      ],
      "metadata": {
        "id": "0ytNotrPGQc5",
        "colab": {
          "base_uri": "https://localhost:8080/"
        },
        "outputId": "806aa98d-c0f4-47e8-a05c-4c2fc3b0859e"
      },
      "execution_count": null,
      "outputs": [
        {
          "output_type": "execute_result",
          "data": {
            "text/plain": [
              "((883, 5, 37), (883,))"
            ]
          },
          "metadata": {},
          "execution_count": 156
        }
      ]
    },
    {
      "cell_type": "markdown",
      "source": [
        "##**Definição das amostras de treino e teste**\n"
      ],
      "metadata": {
        "id": "tZZDQIDcYLGA"
      }
    },
    {
      "cell_type": "code",
      "source": [
        "train_data_length = math.ceil(len(input_lstm)*0.8)\n",
        "input_train, output_train = input_lstm[:train_data_length], output_lstm[:train_data_length]\n",
        "print(\"Shape dados de treino: \", input_train.shape, output_train.shape)\n",
        "input_test, output_test = input_lstm[train_data_length:], output_lstm[train_data_length:]\n",
        "print(\"Shape dados de teste: \", input_test.shape, output_test.shape)"
      ],
      "metadata": {
        "id": "9pvQL-8RKwRl",
        "colab": {
          "base_uri": "https://localhost:8080/"
        },
        "outputId": "fa1f7ad6-8b48-47c2-a5bb-e270c6ffd98c"
      },
      "execution_count": null,
      "outputs": [
        {
          "output_type": "stream",
          "name": "stdout",
          "text": [
            "Shape dados de treino:  (707, 5, 37) (707,)\n",
            "Shape dados de teste:  (176, 5, 37) (176,)\n"
          ]
        }
      ]
    },
    {
      "cell_type": "code",
      "source": [
        "outputs = input_lstm_data['Close'][(train_data_length+window_size):]\n",
        "outputs = outputs.reset_index()\n",
        "rw = input_lstm_data['Close'].shift(1)\n",
        "rw = rw[(train_data_length+window_size):].reset_index()\n",
        "outputs['RW']=rw['Close']; outputs.shape"
      ],
      "metadata": {
        "id": "7xTj_k3SnTFS",
        "colab": {
          "base_uri": "https://localhost:8080/"
        },
        "outputId": "68246489-fb9e-4317-ff1a-08f5a61c16d8"
      },
      "execution_count": null,
      "outputs": [
        {
          "output_type": "execute_result",
          "data": {
            "text/plain": [
              "(176, 3)"
            ]
          },
          "metadata": {},
          "execution_count": 158
        }
      ]
    },
    {
      "cell_type": "markdown",
      "source": [
        "### Conferência (opcional)"
      ],
      "metadata": {
        "id": "T9MeX-epBSYL"
      }
    },
    {
      "cell_type": "code",
      "source": [
        "#Conferência manual das Métricas de erro para o modelo Random Walk, RW\n",
        "d = outputs['Close']-outputs['RW']\n",
        "mse_f = np.mean(d**2)\n",
        "mae_f = np.mean(abs(d))\n",
        "mape_f = np.mean(100*abs(d)/outputs['Close'])\n",
        "rmse_f = np.sqrt(mse_f)\n",
        "print(f'MAE: {mae_f}','\\n',f'RMSE: {rmse_f}','\\n',f'MAPE: {mape_f}')"
      ],
      "metadata": {
        "id": "awtZOV1Muo88",
        "colab": {
          "base_uri": "https://localhost:8080/"
        },
        "outputId": "d55e1b01-690f-4b33-d39b-8981c4429ab0"
      },
      "execution_count": null,
      "outputs": [
        {
          "output_type": "stream",
          "name": "stdout",
          "text": [
            "MAE: 0.3575568307529796 \n",
            " RMSE: 0.45773969809462245 \n",
            " MAPE: 1.2573708610757328\n"
          ]
        }
      ]
    },
    {
      "cell_type": "code",
      "source": [
        "#Conferência das Métricas de erro para RW via sklearn.metrics. Obs: os valores devem ser os mesmos do output anterior.\n",
        "mae_rw = mean_absolute_error(outputs['Close'], outputs['RW'])\n",
        "rmse_rw = mean_squared_error(outputs['Close'], outputs['RW']) ** 0.5\n",
        "mape_rw = 100*mean_absolute_percentage_error(outputs['Close'], outputs['RW'])\n",
        "print(f'MAE: {mae_rw}','\\n',f'RMSE: {rmse_rw}','\\n',f'MAPE: {mape_rw}')"
      ],
      "metadata": {
        "id": "lD2x0NOQxcjQ",
        "colab": {
          "base_uri": "https://localhost:8080/"
        },
        "outputId": "c51acc46-91af-4be3-b8fa-fb5ef802e792"
      },
      "execution_count": null,
      "outputs": [
        {
          "output_type": "stream",
          "name": "stdout",
          "text": [
            "MAE: 0.3575568307529796 \n",
            " RMSE: 0.45773969809462245 \n",
            " MAPE: 1.2573708610757328\n"
          ]
        }
      ]
    },
    {
      "cell_type": "markdown",
      "source": [
        "##**Normalização**"
      ],
      "metadata": {
        "id": "YGM8LqDaUFVC"
      }
    },
    {
      "cell_type": "code",
      "source": [
        "scaler = StandardScaler(); scaler2 = StandardScaler()\n",
        "input_train = scaler.fit_transform(input_train.reshape(-1, input_train.shape[-1])).reshape(input_train.shape)\n",
        "input_test = scaler.transform(input_test.reshape(-1, input_test.shape[-1])).reshape(input_test.shape)\n",
        "output_train = scaler2.fit_transform(output_train.reshape(-1, 1))\n",
        "output_test = scaler2.transform(output_test.reshape(-1, 1))"
      ],
      "metadata": {
        "id": "GRZl-mATQfHc"
      },
      "execution_count": null,
      "outputs": []
    },
    {
      "cell_type": "markdown",
      "source": [
        "## **Treinando modelo LSTM**"
      ],
      "metadata": {
        "id": "bBZY-Ogda2aN"
      }
    },
    {
      "cell_type": "code",
      "source": [
        "random.seed(seed=1234)\n",
        "model = Sequential()\n",
        "model.add(InputLayer((window_size, 37)))\n",
        "model.add(LSTM(128, activation='relu'))\n",
        "model.add(Dropout(0.2))\n",
        "model.add(Dense(1, 'linear'))\n",
        "model.summary()"
      ],
      "metadata": {
        "id": "7UFc2Zh6ON1Y",
        "colab": {
          "base_uri": "https://localhost:8080/"
        },
        "outputId": "4863a4c8-2627-4974-97ab-6a3fac44f209"
      },
      "execution_count": null,
      "outputs": [
        {
          "output_type": "stream",
          "name": "stdout",
          "text": [
            "Model: \"sequential_3\"\n",
            "_________________________________________________________________\n",
            " Layer (type)                Output Shape              Param #   \n",
            "=================================================================\n",
            " lstm_3 (LSTM)               (None, 128)               84992     \n",
            "                                                                 \n",
            " dropout_3 (Dropout)         (None, 128)               0         \n",
            "                                                                 \n",
            " dense_3 (Dense)             (None, 1)                 129       \n",
            "                                                                 \n",
            "=================================================================\n",
            "Total params: 85121 (332.50 KB)\n",
            "Trainable params: 85121 (332.50 KB)\n",
            "Non-trainable params: 0 (0.00 Byte)\n",
            "_________________________________________________________________\n"
          ]
        }
      ]
    },
    {
      "cell_type": "code",
      "source": [
        "# cp4 = ModelCheckpoint('model4/', save_best_only=True)\n",
        "model.compile(loss=MeanSquaredError(), optimizer=Adam(learning_rate=0.01), metrics=[RootMeanSquaredError()])\n",
        "history = model.fit(input_train, output_train, batch_size=64, epochs=100, validation_data=(input_test, output_test))"
      ],
      "metadata": {
        "id": "VXHV8PnsOt8s",
        "colab": {
          "base_uri": "https://localhost:8080/"
        },
        "outputId": "ed1602a7-3ad2-4667-87b1-b2f7877b602b"
      },
      "execution_count": null,
      "outputs": [
        {
          "output_type": "stream",
          "name": "stdout",
          "text": [
            "Epoch 1/100\n",
            "12/12 [==============================] - 3s 67ms/step - loss: 0.4370 - root_mean_squared_error: 0.6611 - val_loss: 0.3247 - val_root_mean_squared_error: 0.5698\n",
            "Epoch 2/100\n",
            "12/12 [==============================] - 0s 26ms/step - loss: 0.0864 - root_mean_squared_error: 0.2939 - val_loss: 0.5890 - val_root_mean_squared_error: 0.7675\n",
            "Epoch 3/100\n",
            "12/12 [==============================] - 0s 31ms/step - loss: 0.0775 - root_mean_squared_error: 0.2783 - val_loss: 0.1605 - val_root_mean_squared_error: 0.4006\n",
            "Epoch 4/100\n",
            "12/12 [==============================] - 0s 27ms/step - loss: 0.0504 - root_mean_squared_error: 0.2244 - val_loss: 0.1330 - val_root_mean_squared_error: 0.3648\n",
            "Epoch 5/100\n",
            "12/12 [==============================] - 0s 31ms/step - loss: 0.0474 - root_mean_squared_error: 0.2177 - val_loss: 0.1959 - val_root_mean_squared_error: 0.4426\n",
            "Epoch 6/100\n",
            "12/12 [==============================] - 0s 25ms/step - loss: 0.0409 - root_mean_squared_error: 0.2023 - val_loss: 0.1872 - val_root_mean_squared_error: 0.4327\n",
            "Epoch 7/100\n",
            "12/12 [==============================] - 0s 16ms/step - loss: 0.0394 - root_mean_squared_error: 0.1985 - val_loss: 0.3360 - val_root_mean_squared_error: 0.5797\n",
            "Epoch 8/100\n",
            "12/12 [==============================] - 0s 15ms/step - loss: 0.0466 - root_mean_squared_error: 0.2158 - val_loss: 0.1672 - val_root_mean_squared_error: 0.4089\n",
            "Epoch 9/100\n",
            "12/12 [==============================] - 0s 17ms/step - loss: 0.0449 - root_mean_squared_error: 0.2119 - val_loss: 0.0758 - val_root_mean_squared_error: 0.2753\n",
            "Epoch 10/100\n",
            "12/12 [==============================] - 0s 16ms/step - loss: 0.0437 - root_mean_squared_error: 0.2092 - val_loss: 0.1330 - val_root_mean_squared_error: 0.3647\n",
            "Epoch 11/100\n",
            "12/12 [==============================] - 0s 16ms/step - loss: 0.0571 - root_mean_squared_error: 0.2390 - val_loss: 0.1457 - val_root_mean_squared_error: 0.3817\n",
            "Epoch 12/100\n",
            "12/12 [==============================] - 0s 16ms/step - loss: 0.0460 - root_mean_squared_error: 0.2144 - val_loss: 0.1641 - val_root_mean_squared_error: 0.4051\n",
            "Epoch 13/100\n",
            "12/12 [==============================] - 0s 16ms/step - loss: 0.0415 - root_mean_squared_error: 0.2036 - val_loss: 0.2487 - val_root_mean_squared_error: 0.4987\n",
            "Epoch 14/100\n",
            "12/12 [==============================] - 0s 16ms/step - loss: 0.0421 - root_mean_squared_error: 0.2052 - val_loss: 0.1156 - val_root_mean_squared_error: 0.3401\n",
            "Epoch 15/100\n",
            "12/12 [==============================] - 0s 18ms/step - loss: 0.0418 - root_mean_squared_error: 0.2044 - val_loss: 0.1870 - val_root_mean_squared_error: 0.4324\n",
            "Epoch 16/100\n",
            "12/12 [==============================] - 0s 16ms/step - loss: 0.0396 - root_mean_squared_error: 0.1990 - val_loss: 0.0965 - val_root_mean_squared_error: 0.3106\n",
            "Epoch 17/100\n",
            "12/12 [==============================] - 0s 16ms/step - loss: 0.0445 - root_mean_squared_error: 0.2109 - val_loss: 0.1437 - val_root_mean_squared_error: 0.3791\n",
            "Epoch 18/100\n",
            "12/12 [==============================] - 0s 16ms/step - loss: 0.0448 - root_mean_squared_error: 0.2117 - val_loss: 0.0856 - val_root_mean_squared_error: 0.2925\n",
            "Epoch 19/100\n",
            "12/12 [==============================] - 0s 16ms/step - loss: 0.0347 - root_mean_squared_error: 0.1862 - val_loss: 0.1295 - val_root_mean_squared_error: 0.3599\n",
            "Epoch 20/100\n",
            "12/12 [==============================] - 0s 17ms/step - loss: 0.0347 - root_mean_squared_error: 0.1863 - val_loss: 0.1450 - val_root_mean_squared_error: 0.3808\n",
            "Epoch 21/100\n",
            "12/12 [==============================] - 0s 16ms/step - loss: 0.0402 - root_mean_squared_error: 0.2005 - val_loss: 0.1006 - val_root_mean_squared_error: 0.3172\n",
            "Epoch 22/100\n",
            "12/12 [==============================] - 0s 17ms/step - loss: 0.0435 - root_mean_squared_error: 0.2085 - val_loss: 0.1583 - val_root_mean_squared_error: 0.3979\n",
            "Epoch 23/100\n",
            "12/12 [==============================] - 0s 16ms/step - loss: 0.0522 - root_mean_squared_error: 0.2284 - val_loss: 0.2189 - val_root_mean_squared_error: 0.4679\n",
            "Epoch 24/100\n",
            "12/12 [==============================] - 0s 21ms/step - loss: 0.0647 - root_mean_squared_error: 0.2544 - val_loss: 0.1245 - val_root_mean_squared_error: 0.3528\n",
            "Epoch 25/100\n",
            "12/12 [==============================] - 0s 17ms/step - loss: 0.0553 - root_mean_squared_error: 0.2351 - val_loss: 0.1526 - val_root_mean_squared_error: 0.3907\n",
            "Epoch 26/100\n",
            "12/12 [==============================] - 0s 17ms/step - loss: 0.0395 - root_mean_squared_error: 0.1987 - val_loss: 0.1260 - val_root_mean_squared_error: 0.3549\n",
            "Epoch 27/100\n",
            "12/12 [==============================] - 0s 16ms/step - loss: 0.0504 - root_mean_squared_error: 0.2245 - val_loss: 0.1897 - val_root_mean_squared_error: 0.4356\n",
            "Epoch 28/100\n",
            "12/12 [==============================] - 0s 17ms/step - loss: 0.0625 - root_mean_squared_error: 0.2500 - val_loss: 0.1513 - val_root_mean_squared_error: 0.3890\n",
            "Epoch 29/100\n",
            "12/12 [==============================] - 0s 18ms/step - loss: 0.0473 - root_mean_squared_error: 0.2174 - val_loss: 0.1464 - val_root_mean_squared_error: 0.3826\n",
            "Epoch 30/100\n",
            "12/12 [==============================] - 0s 18ms/step - loss: 0.0702 - root_mean_squared_error: 0.2649 - val_loss: 0.0869 - val_root_mean_squared_error: 0.2948\n",
            "Epoch 31/100\n",
            "12/12 [==============================] - 0s 17ms/step - loss: 0.0686 - root_mean_squared_error: 0.2619 - val_loss: 0.0848 - val_root_mean_squared_error: 0.2912\n",
            "Epoch 32/100\n",
            "12/12 [==============================] - 0s 17ms/step - loss: 0.0538 - root_mean_squared_error: 0.2319 - val_loss: 0.1198 - val_root_mean_squared_error: 0.3462\n",
            "Epoch 33/100\n",
            "12/12 [==============================] - 0s 16ms/step - loss: 0.0623 - root_mean_squared_error: 0.2495 - val_loss: 0.0696 - val_root_mean_squared_error: 0.2639\n",
            "Epoch 34/100\n",
            "12/12 [==============================] - 0s 16ms/step - loss: 0.0505 - root_mean_squared_error: 0.2248 - val_loss: 0.1309 - val_root_mean_squared_error: 0.3619\n",
            "Epoch 35/100\n",
            "12/12 [==============================] - 0s 18ms/step - loss: 0.0533 - root_mean_squared_error: 0.2309 - val_loss: 0.0612 - val_root_mean_squared_error: 0.2473\n",
            "Epoch 36/100\n",
            "12/12 [==============================] - 0s 16ms/step - loss: 0.0495 - root_mean_squared_error: 0.2226 - val_loss: 0.1735 - val_root_mean_squared_error: 0.4166\n",
            "Epoch 37/100\n",
            "12/12 [==============================] - 0s 17ms/step - loss: 0.0470 - root_mean_squared_error: 0.2167 - val_loss: 0.0930 - val_root_mean_squared_error: 0.3049\n",
            "Epoch 38/100\n",
            "12/12 [==============================] - 0s 17ms/step - loss: 0.0546 - root_mean_squared_error: 0.2336 - val_loss: 0.0843 - val_root_mean_squared_error: 0.2903\n",
            "Epoch 39/100\n",
            "12/12 [==============================] - 0s 16ms/step - loss: 0.0831 - root_mean_squared_error: 0.2883 - val_loss: 0.1078 - val_root_mean_squared_error: 0.3283\n",
            "Epoch 40/100\n",
            "12/12 [==============================] - 0s 18ms/step - loss: 0.0494 - root_mean_squared_error: 0.2224 - val_loss: 0.1268 - val_root_mean_squared_error: 0.3561\n",
            "Epoch 41/100\n",
            "12/12 [==============================] - 0s 16ms/step - loss: 0.1061 - root_mean_squared_error: 0.3257 - val_loss: 0.1175 - val_root_mean_squared_error: 0.3428\n",
            "Epoch 42/100\n",
            "12/12 [==============================] - 0s 18ms/step - loss: 0.0633 - root_mean_squared_error: 0.2516 - val_loss: 0.1231 - val_root_mean_squared_error: 0.3509\n",
            "Epoch 43/100\n",
            "12/12 [==============================] - 0s 16ms/step - loss: 0.0601 - root_mean_squared_error: 0.2452 - val_loss: 0.1122 - val_root_mean_squared_error: 0.3349\n",
            "Epoch 44/100\n",
            "12/12 [==============================] - 0s 16ms/step - loss: 0.0446 - root_mean_squared_error: 0.2111 - val_loss: 0.1253 - val_root_mean_squared_error: 0.3540\n",
            "Epoch 45/100\n",
            "12/12 [==============================] - 0s 17ms/step - loss: 0.0526 - root_mean_squared_error: 0.2294 - val_loss: 0.1311 - val_root_mean_squared_error: 0.3621\n",
            "Epoch 46/100\n",
            "12/12 [==============================] - 0s 17ms/step - loss: 0.0449 - root_mean_squared_error: 0.2118 - val_loss: 0.2141 - val_root_mean_squared_error: 0.4627\n",
            "Epoch 47/100\n",
            "12/12 [==============================] - 0s 16ms/step - loss: 0.0462 - root_mean_squared_error: 0.2150 - val_loss: 0.1353 - val_root_mean_squared_error: 0.3678\n",
            "Epoch 48/100\n",
            "12/12 [==============================] - 0s 16ms/step - loss: 0.0408 - root_mean_squared_error: 0.2020 - val_loss: 0.1867 - val_root_mean_squared_error: 0.4320\n",
            "Epoch 49/100\n",
            "12/12 [==============================] - 0s 17ms/step - loss: 0.0395 - root_mean_squared_error: 0.1987 - val_loss: 0.1778 - val_root_mean_squared_error: 0.4217\n",
            "Epoch 50/100\n",
            "12/12 [==============================] - 0s 21ms/step - loss: 0.0360 - root_mean_squared_error: 0.1898 - val_loss: 0.1967 - val_root_mean_squared_error: 0.4435\n",
            "Epoch 51/100\n",
            "12/12 [==============================] - 0s 15ms/step - loss: 0.0477 - root_mean_squared_error: 0.2185 - val_loss: 0.1973 - val_root_mean_squared_error: 0.4442\n",
            "Epoch 52/100\n",
            "12/12 [==============================] - 0s 16ms/step - loss: 0.0411 - root_mean_squared_error: 0.2028 - val_loss: 0.1926 - val_root_mean_squared_error: 0.4388\n",
            "Epoch 53/100\n",
            "12/12 [==============================] - 0s 16ms/step - loss: 0.0417 - root_mean_squared_error: 0.2042 - val_loss: 0.0735 - val_root_mean_squared_error: 0.2712\n",
            "Epoch 54/100\n",
            "12/12 [==============================] - 0s 17ms/step - loss: 0.0456 - root_mean_squared_error: 0.2135 - val_loss: 0.0971 - val_root_mean_squared_error: 0.3116\n",
            "Epoch 55/100\n",
            "12/12 [==============================] - 0s 23ms/step - loss: 0.0478 - root_mean_squared_error: 0.2187 - val_loss: 0.1294 - val_root_mean_squared_error: 0.3597\n",
            "Epoch 56/100\n",
            "12/12 [==============================] - 0s 30ms/step - loss: 0.0400 - root_mean_squared_error: 0.2000 - val_loss: 0.1147 - val_root_mean_squared_error: 0.3387\n",
            "Epoch 57/100\n",
            "12/12 [==============================] - 0s 27ms/step - loss: 0.0403 - root_mean_squared_error: 0.2006 - val_loss: 0.1715 - val_root_mean_squared_error: 0.4141\n",
            "Epoch 58/100\n",
            "12/12 [==============================] - 0s 31ms/step - loss: 0.0383 - root_mean_squared_error: 0.1957 - val_loss: 0.1145 - val_root_mean_squared_error: 0.3383\n",
            "Epoch 59/100\n",
            "12/12 [==============================] - 0s 29ms/step - loss: 0.0413 - root_mean_squared_error: 0.2033 - val_loss: 0.0783 - val_root_mean_squared_error: 0.2797\n",
            "Epoch 60/100\n",
            "12/12 [==============================] - 0s 30ms/step - loss: 0.0411 - root_mean_squared_error: 0.2026 - val_loss: 0.0534 - val_root_mean_squared_error: 0.2310\n",
            "Epoch 61/100\n",
            "12/12 [==============================] - 0s 32ms/step - loss: 0.0442 - root_mean_squared_error: 0.2102 - val_loss: 0.0953 - val_root_mean_squared_error: 0.3087\n",
            "Epoch 62/100\n",
            "12/12 [==============================] - 0s 29ms/step - loss: 0.0438 - root_mean_squared_error: 0.2092 - val_loss: 0.1963 - val_root_mean_squared_error: 0.4430\n",
            "Epoch 63/100\n",
            "12/12 [==============================] - 0s 31ms/step - loss: 0.0463 - root_mean_squared_error: 0.2151 - val_loss: 0.1931 - val_root_mean_squared_error: 0.4394\n",
            "Epoch 64/100\n",
            "12/12 [==============================] - 0s 33ms/step - loss: 0.0374 - root_mean_squared_error: 0.1933 - val_loss: 0.2077 - val_root_mean_squared_error: 0.4557\n",
            "Epoch 65/100\n",
            "12/12 [==============================] - 0s 28ms/step - loss: 0.0377 - root_mean_squared_error: 0.1942 - val_loss: 0.1978 - val_root_mean_squared_error: 0.4447\n",
            "Epoch 66/100\n",
            "12/12 [==============================] - 0s 27ms/step - loss: 0.0459 - root_mean_squared_error: 0.2142 - val_loss: 0.1191 - val_root_mean_squared_error: 0.3451\n",
            "Epoch 67/100\n",
            "12/12 [==============================] - 0s 29ms/step - loss: 0.0393 - root_mean_squared_error: 0.1983 - val_loss: 0.0803 - val_root_mean_squared_error: 0.2833\n",
            "Epoch 68/100\n",
            "12/12 [==============================] - 0s 27ms/step - loss: 0.0336 - root_mean_squared_error: 0.1833 - val_loss: 0.1082 - val_root_mean_squared_error: 0.3289\n",
            "Epoch 69/100\n",
            "12/12 [==============================] - 0s 38ms/step - loss: 0.0506 - root_mean_squared_error: 0.2249 - val_loss: 0.1134 - val_root_mean_squared_error: 0.3367\n",
            "Epoch 70/100\n",
            "12/12 [==============================] - 0s 29ms/step - loss: 0.0413 - root_mean_squared_error: 0.2033 - val_loss: 0.0800 - val_root_mean_squared_error: 0.2829\n",
            "Epoch 71/100\n",
            "12/12 [==============================] - 0s 33ms/step - loss: 0.0372 - root_mean_squared_error: 0.1928 - val_loss: 0.0745 - val_root_mean_squared_error: 0.2730\n",
            "Epoch 72/100\n",
            "12/12 [==============================] - 0s 32ms/step - loss: 0.0336 - root_mean_squared_error: 0.1832 - val_loss: 0.0987 - val_root_mean_squared_error: 0.3142\n",
            "Epoch 73/100\n",
            "12/12 [==============================] - 0s 29ms/step - loss: 0.0320 - root_mean_squared_error: 0.1788 - val_loss: 0.1869 - val_root_mean_squared_error: 0.4323\n",
            "Epoch 74/100\n",
            "12/12 [==============================] - 0s 31ms/step - loss: 0.0465 - root_mean_squared_error: 0.2155 - val_loss: 0.2021 - val_root_mean_squared_error: 0.4496\n",
            "Epoch 75/100\n",
            "12/12 [==============================] - 0s 28ms/step - loss: 0.0408 - root_mean_squared_error: 0.2021 - val_loss: 0.0762 - val_root_mean_squared_error: 0.2760\n",
            "Epoch 76/100\n",
            "12/12 [==============================] - 0s 30ms/step - loss: 0.0712 - root_mean_squared_error: 0.2667 - val_loss: 0.0221 - val_root_mean_squared_error: 0.1486\n",
            "Epoch 77/100\n",
            "12/12 [==============================] - 0s 33ms/step - loss: 0.0635 - root_mean_squared_error: 0.2519 - val_loss: 0.0356 - val_root_mean_squared_error: 0.1886\n",
            "Epoch 78/100\n",
            "12/12 [==============================] - 0s 29ms/step - loss: 0.0464 - root_mean_squared_error: 0.2154 - val_loss: 0.1515 - val_root_mean_squared_error: 0.3893\n",
            "Epoch 79/100\n",
            "12/12 [==============================] - 0s 33ms/step - loss: 0.0397 - root_mean_squared_error: 0.1993 - val_loss: 0.1436 - val_root_mean_squared_error: 0.3789\n",
            "Epoch 80/100\n",
            "12/12 [==============================] - 0s 31ms/step - loss: 0.0418 - root_mean_squared_error: 0.2044 - val_loss: 0.1828 - val_root_mean_squared_error: 0.4275\n",
            "Epoch 81/100\n",
            "12/12 [==============================] - 0s 27ms/step - loss: 0.0394 - root_mean_squared_error: 0.1984 - val_loss: 0.1375 - val_root_mean_squared_error: 0.3708\n",
            "Epoch 82/100\n",
            "12/12 [==============================] - 0s 17ms/step - loss: 0.0639 - root_mean_squared_error: 0.2529 - val_loss: 0.1140 - val_root_mean_squared_error: 0.3377\n",
            "Epoch 83/100\n",
            "12/12 [==============================] - 0s 16ms/step - loss: 0.0624 - root_mean_squared_error: 0.2498 - val_loss: 0.1804 - val_root_mean_squared_error: 0.4247\n",
            "Epoch 84/100\n",
            "12/12 [==============================] - 0s 17ms/step - loss: 0.0553 - root_mean_squared_error: 0.2352 - val_loss: 0.1273 - val_root_mean_squared_error: 0.3568\n",
            "Epoch 85/100\n",
            "12/12 [==============================] - 0s 18ms/step - loss: 0.0454 - root_mean_squared_error: 0.2130 - val_loss: 0.1451 - val_root_mean_squared_error: 0.3810\n",
            "Epoch 86/100\n",
            "12/12 [==============================] - 0s 17ms/step - loss: 0.0481 - root_mean_squared_error: 0.2194 - val_loss: 0.1010 - val_root_mean_squared_error: 0.3178\n",
            "Epoch 87/100\n",
            "12/12 [==============================] - 0s 17ms/step - loss: 0.0565 - root_mean_squared_error: 0.2377 - val_loss: 0.0978 - val_root_mean_squared_error: 0.3127\n",
            "Epoch 88/100\n",
            "12/12 [==============================] - 0s 17ms/step - loss: 0.0784 - root_mean_squared_error: 0.2800 - val_loss: 0.0529 - val_root_mean_squared_error: 0.2300\n",
            "Epoch 89/100\n",
            "12/12 [==============================] - 0s 17ms/step - loss: 0.0684 - root_mean_squared_error: 0.2616 - val_loss: 0.0889 - val_root_mean_squared_error: 0.2982\n",
            "Epoch 90/100\n",
            "12/12 [==============================] - 0s 18ms/step - loss: 0.0401 - root_mean_squared_error: 0.2003 - val_loss: 0.0564 - val_root_mean_squared_error: 0.2375\n",
            "Epoch 91/100\n",
            "12/12 [==============================] - 0s 16ms/step - loss: 0.0434 - root_mean_squared_error: 0.2084 - val_loss: 0.1073 - val_root_mean_squared_error: 0.3275\n",
            "Epoch 92/100\n",
            "12/12 [==============================] - 0s 17ms/step - loss: 0.0363 - root_mean_squared_error: 0.1906 - val_loss: 0.1905 - val_root_mean_squared_error: 0.4365\n",
            "Epoch 93/100\n",
            "12/12 [==============================] - 0s 17ms/step - loss: 0.0802 - root_mean_squared_error: 0.2831 - val_loss: 0.4359 - val_root_mean_squared_error: 0.6602\n",
            "Epoch 94/100\n",
            "12/12 [==============================] - 0s 16ms/step - loss: 0.0809 - root_mean_squared_error: 0.2845 - val_loss: 0.2527 - val_root_mean_squared_error: 0.5027\n",
            "Epoch 95/100\n",
            "12/12 [==============================] - 0s 17ms/step - loss: 0.0640 - root_mean_squared_error: 0.2530 - val_loss: 0.3151 - val_root_mean_squared_error: 0.5613\n",
            "Epoch 96/100\n",
            "12/12 [==============================] - 0s 16ms/step - loss: 0.0535 - root_mean_squared_error: 0.2313 - val_loss: 0.2666 - val_root_mean_squared_error: 0.5164\n",
            "Epoch 97/100\n",
            "12/12 [==============================] - 0s 16ms/step - loss: 0.0728 - root_mean_squared_error: 0.2698 - val_loss: 0.2616 - val_root_mean_squared_error: 0.5115\n",
            "Epoch 98/100\n",
            "12/12 [==============================] - 0s 16ms/step - loss: 0.0674 - root_mean_squared_error: 0.2596 - val_loss: 0.2553 - val_root_mean_squared_error: 0.5053\n",
            "Epoch 99/100\n",
            "12/12 [==============================] - 0s 21ms/step - loss: 0.0824 - root_mean_squared_error: 0.2870 - val_loss: 0.2672 - val_root_mean_squared_error: 0.5169\n",
            "Epoch 100/100\n",
            "12/12 [==============================] - 0s 17ms/step - loss: 0.0565 - root_mean_squared_error: 0.2376 - val_loss: 0.2403 - val_root_mean_squared_error: 0.4902\n"
          ]
        }
      ]
    },
    {
      "cell_type": "markdown",
      "source": [
        "## **Pós processamento - Desfazendo a normalização**"
      ],
      "metadata": {
        "id": "E76nmJrIey6b"
      }
    },
    {
      "cell_type": "markdown",
      "source": [
        "## **Definindo predições com dados de teste e treino**"
      ],
      "metadata": {
        "id": "FmWXPhUebsZQ"
      }
    },
    {
      "cell_type": "code",
      "source": [
        "output_train_reverse = scaler2.inverse_transform(output_train.reshape(-1, 1))\n",
        "output_test_reverse = scaler2.inverse_transform(output_test.reshape(-1, 1))"
      ],
      "metadata": {
        "id": "eSm980zcdmC7"
      },
      "execution_count": null,
      "outputs": []
    },
    {
      "cell_type": "code",
      "source": [
        "train_predictions = model.predict(input_train)\n",
        "test_predictions = model.predict(input_test)"
      ],
      "metadata": {
        "id": "NNIvczwEbvfL",
        "colab": {
          "base_uri": "https://localhost:8080/"
        },
        "outputId": "76e471b6-60ab-4480-93e7-b0837865bb3f"
      },
      "execution_count": null,
      "outputs": [
        {
          "output_type": "stream",
          "name": "stdout",
          "text": [
            "23/23 [==============================] - 0s 5ms/step\n",
            "6/6 [==============================] - 0s 4ms/step\n"
          ]
        }
      ]
    },
    {
      "cell_type": "code",
      "source": [
        "train_predictions.shape"
      ],
      "metadata": {
        "id": "qyQhGYRZmwmw",
        "colab": {
          "base_uri": "https://localhost:8080/"
        },
        "outputId": "076f6897-0f40-49aa-bca8-9c5a09966daf"
      },
      "execution_count": null,
      "outputs": [
        {
          "output_type": "execute_result",
          "data": {
            "text/plain": [
              "(707, 1)"
            ]
          },
          "metadata": {},
          "execution_count": 166
        }
      ]
    },
    {
      "cell_type": "code",
      "source": [
        "pred_train = scaler2.inverse_transform(train_predictions)\n",
        "pred_test = scaler2.inverse_transform(test_predictions)"
      ],
      "metadata": {
        "id": "CcvuHqtddAEY"
      },
      "execution_count": null,
      "outputs": []
    },
    {
      "cell_type": "markdown",
      "source": [
        "## **Cálculo das métricas do modelo LSTM**"
      ],
      "metadata": {
        "id": "M4o8rG9Gimy6"
      }
    },
    {
      "cell_type": "code",
      "source": [
        "mae_train = mean_absolute_error(output_train_reverse, pred_train)\n",
        "rmse_train = mean_squared_error(output_train_reverse, pred_train) ** 0.5\n",
        "mape_train = 100*mean_absolute_percentage_error(output_train_reverse, pred_train)\n",
        "\n",
        "mae_test = mean_absolute_error(output_test_reverse, pred_test)\n",
        "rmse_test = mean_squared_error(output_test_reverse, pred_test) ** 0.5\n",
        "mape_test = 100*mean_absolute_percentage_error(output_test_reverse, pred_test)\n",
        "\n",
        "data = [['MAE', mae_test],\n",
        "        ['MAPE', mape_test],\n",
        "        ['RMSE', rmse_test]]\n",
        "\n",
        "df_lstm_metrics = pd.DataFrame(data, columns=['Métrica', 'LSTM Teste'])"
      ],
      "metadata": {
        "id": "5oUHWcer2nHC"
      },
      "execution_count": null,
      "outputs": []
    },
    {
      "cell_type": "code",
      "source": [
        "df_lstm_metrics"
      ],
      "metadata": {
        "id": "VNv33gMc2f-7",
        "colab": {
          "base_uri": "https://localhost:8080/"
        },
        "outputId": "0edd0216-b0cf-4400-e254-d7b90f89e0f6"
      },
      "execution_count": null,
      "outputs": [
        {
          "output_type": "execute_result",
          "data": {
            "text/plain": [
              "  Métrica  LSTM Teste\n",
              "0     MAE    2.636894\n",
              "1    MAPE    9.431933\n",
              "2    RMSE    2.771302"
            ],
            "text/html": [
              "\n",
              "  <div id=\"df-1f279780-8858-4a46-bd0f-c35f7317815e\" class=\"colab-df-container\">\n",
              "    <div>\n",
              "<style scoped>\n",
              "    .dataframe tbody tr th:only-of-type {\n",
              "        vertical-align: middle;\n",
              "    }\n",
              "\n",
              "    .dataframe tbody tr th {\n",
              "        vertical-align: top;\n",
              "    }\n",
              "\n",
              "    .dataframe thead th {\n",
              "        text-align: right;\n",
              "    }\n",
              "</style>\n",
              "<table border=\"1\" class=\"dataframe\">\n",
              "  <thead>\n",
              "    <tr style=\"text-align: right;\">\n",
              "      <th></th>\n",
              "      <th>Métrica</th>\n",
              "      <th>LSTM Teste</th>\n",
              "    </tr>\n",
              "  </thead>\n",
              "  <tbody>\n",
              "    <tr>\n",
              "      <th>0</th>\n",
              "      <td>MAE</td>\n",
              "      <td>2.636894</td>\n",
              "    </tr>\n",
              "    <tr>\n",
              "      <th>1</th>\n",
              "      <td>MAPE</td>\n",
              "      <td>9.431933</td>\n",
              "    </tr>\n",
              "    <tr>\n",
              "      <th>2</th>\n",
              "      <td>RMSE</td>\n",
              "      <td>2.771302</td>\n",
              "    </tr>\n",
              "  </tbody>\n",
              "</table>\n",
              "</div>\n",
              "    <div class=\"colab-df-buttons\">\n",
              "\n",
              "  <div class=\"colab-df-container\">\n",
              "    <button class=\"colab-df-convert\" onclick=\"convertToInteractive('df-1f279780-8858-4a46-bd0f-c35f7317815e')\"\n",
              "            title=\"Convert this dataframe to an interactive table.\"\n",
              "            style=\"display:none;\">\n",
              "\n",
              "  <svg xmlns=\"http://www.w3.org/2000/svg\" height=\"24px\" viewBox=\"0 -960 960 960\">\n",
              "    <path d=\"M120-120v-720h720v720H120Zm60-500h600v-160H180v160Zm220 220h160v-160H400v160Zm0 220h160v-160H400v160ZM180-400h160v-160H180v160Zm440 0h160v-160H620v160ZM180-180h160v-160H180v160Zm440 0h160v-160H620v160Z\"/>\n",
              "  </svg>\n",
              "    </button>\n",
              "\n",
              "  <style>\n",
              "    .colab-df-container {\n",
              "      display:flex;\n",
              "      gap: 12px;\n",
              "    }\n",
              "\n",
              "    .colab-df-convert {\n",
              "      background-color: #E8F0FE;\n",
              "      border: none;\n",
              "      border-radius: 50%;\n",
              "      cursor: pointer;\n",
              "      display: none;\n",
              "      fill: #1967D2;\n",
              "      height: 32px;\n",
              "      padding: 0 0 0 0;\n",
              "      width: 32px;\n",
              "    }\n",
              "\n",
              "    .colab-df-convert:hover {\n",
              "      background-color: #E2EBFA;\n",
              "      box-shadow: 0px 1px 2px rgba(60, 64, 67, 0.3), 0px 1px 3px 1px rgba(60, 64, 67, 0.15);\n",
              "      fill: #174EA6;\n",
              "    }\n",
              "\n",
              "    .colab-df-buttons div {\n",
              "      margin-bottom: 4px;\n",
              "    }\n",
              "\n",
              "    [theme=dark] .colab-df-convert {\n",
              "      background-color: #3B4455;\n",
              "      fill: #D2E3FC;\n",
              "    }\n",
              "\n",
              "    [theme=dark] .colab-df-convert:hover {\n",
              "      background-color: #434B5C;\n",
              "      box-shadow: 0px 1px 3px 1px rgba(0, 0, 0, 0.15);\n",
              "      filter: drop-shadow(0px 1px 2px rgba(0, 0, 0, 0.3));\n",
              "      fill: #FFFFFF;\n",
              "    }\n",
              "  </style>\n",
              "\n",
              "    <script>\n",
              "      const buttonEl =\n",
              "        document.querySelector('#df-1f279780-8858-4a46-bd0f-c35f7317815e button.colab-df-convert');\n",
              "      buttonEl.style.display =\n",
              "        google.colab.kernel.accessAllowed ? 'block' : 'none';\n",
              "\n",
              "      async function convertToInteractive(key) {\n",
              "        const element = document.querySelector('#df-1f279780-8858-4a46-bd0f-c35f7317815e');\n",
              "        const dataTable =\n",
              "          await google.colab.kernel.invokeFunction('convertToInteractive',\n",
              "                                                    [key], {});\n",
              "        if (!dataTable) return;\n",
              "\n",
              "        const docLinkHtml = 'Like what you see? Visit the ' +\n",
              "          '<a target=\"_blank\" href=https://colab.research.google.com/notebooks/data_table.ipynb>data table notebook</a>'\n",
              "          + ' to learn more about interactive tables.';\n",
              "        element.innerHTML = '';\n",
              "        dataTable['output_type'] = 'display_data';\n",
              "        await google.colab.output.renderOutput(dataTable, element);\n",
              "        const docLink = document.createElement('div');\n",
              "        docLink.innerHTML = docLinkHtml;\n",
              "        element.appendChild(docLink);\n",
              "      }\n",
              "    </script>\n",
              "  </div>\n",
              "\n",
              "\n",
              "<div id=\"df-09a15e08-4f73-4e44-80dd-019bd5b9c870\">\n",
              "  <button class=\"colab-df-quickchart\" onclick=\"quickchart('df-09a15e08-4f73-4e44-80dd-019bd5b9c870')\"\n",
              "            title=\"Suggest charts\"\n",
              "            style=\"display:none;\">\n",
              "\n",
              "<svg xmlns=\"http://www.w3.org/2000/svg\" height=\"24px\"viewBox=\"0 0 24 24\"\n",
              "     width=\"24px\">\n",
              "    <g>\n",
              "        <path d=\"M19 3H5c-1.1 0-2 .9-2 2v14c0 1.1.9 2 2 2h14c1.1 0 2-.9 2-2V5c0-1.1-.9-2-2-2zM9 17H7v-7h2v7zm4 0h-2V7h2v10zm4 0h-2v-4h2v4z\"/>\n",
              "    </g>\n",
              "</svg>\n",
              "  </button>\n",
              "\n",
              "<style>\n",
              "  .colab-df-quickchart {\n",
              "      --bg-color: #E8F0FE;\n",
              "      --fill-color: #1967D2;\n",
              "      --hover-bg-color: #E2EBFA;\n",
              "      --hover-fill-color: #174EA6;\n",
              "      --disabled-fill-color: #AAA;\n",
              "      --disabled-bg-color: #DDD;\n",
              "  }\n",
              "\n",
              "  [theme=dark] .colab-df-quickchart {\n",
              "      --bg-color: #3B4455;\n",
              "      --fill-color: #D2E3FC;\n",
              "      --hover-bg-color: #434B5C;\n",
              "      --hover-fill-color: #FFFFFF;\n",
              "      --disabled-bg-color: #3B4455;\n",
              "      --disabled-fill-color: #666;\n",
              "  }\n",
              "\n",
              "  .colab-df-quickchart {\n",
              "    background-color: var(--bg-color);\n",
              "    border: none;\n",
              "    border-radius: 50%;\n",
              "    cursor: pointer;\n",
              "    display: none;\n",
              "    fill: var(--fill-color);\n",
              "    height: 32px;\n",
              "    padding: 0;\n",
              "    width: 32px;\n",
              "  }\n",
              "\n",
              "  .colab-df-quickchart:hover {\n",
              "    background-color: var(--hover-bg-color);\n",
              "    box-shadow: 0 1px 2px rgba(60, 64, 67, 0.3), 0 1px 3px 1px rgba(60, 64, 67, 0.15);\n",
              "    fill: var(--button-hover-fill-color);\n",
              "  }\n",
              "\n",
              "  .colab-df-quickchart-complete:disabled,\n",
              "  .colab-df-quickchart-complete:disabled:hover {\n",
              "    background-color: var(--disabled-bg-color);\n",
              "    fill: var(--disabled-fill-color);\n",
              "    box-shadow: none;\n",
              "  }\n",
              "\n",
              "  .colab-df-spinner {\n",
              "    border: 2px solid var(--fill-color);\n",
              "    border-color: transparent;\n",
              "    border-bottom-color: var(--fill-color);\n",
              "    animation:\n",
              "      spin 1s steps(1) infinite;\n",
              "  }\n",
              "\n",
              "  @keyframes spin {\n",
              "    0% {\n",
              "      border-color: transparent;\n",
              "      border-bottom-color: var(--fill-color);\n",
              "      border-left-color: var(--fill-color);\n",
              "    }\n",
              "    20% {\n",
              "      border-color: transparent;\n",
              "      border-left-color: var(--fill-color);\n",
              "      border-top-color: var(--fill-color);\n",
              "    }\n",
              "    30% {\n",
              "      border-color: transparent;\n",
              "      border-left-color: var(--fill-color);\n",
              "      border-top-color: var(--fill-color);\n",
              "      border-right-color: var(--fill-color);\n",
              "    }\n",
              "    40% {\n",
              "      border-color: transparent;\n",
              "      border-right-color: var(--fill-color);\n",
              "      border-top-color: var(--fill-color);\n",
              "    }\n",
              "    60% {\n",
              "      border-color: transparent;\n",
              "      border-right-color: var(--fill-color);\n",
              "    }\n",
              "    80% {\n",
              "      border-color: transparent;\n",
              "      border-right-color: var(--fill-color);\n",
              "      border-bottom-color: var(--fill-color);\n",
              "    }\n",
              "    90% {\n",
              "      border-color: transparent;\n",
              "      border-bottom-color: var(--fill-color);\n",
              "    }\n",
              "  }\n",
              "</style>\n",
              "\n",
              "  <script>\n",
              "    async function quickchart(key) {\n",
              "      const quickchartButtonEl =\n",
              "        document.querySelector('#' + key + ' button');\n",
              "      quickchartButtonEl.disabled = true;  // To prevent multiple clicks.\n",
              "      quickchartButtonEl.classList.add('colab-df-spinner');\n",
              "      try {\n",
              "        const charts = await google.colab.kernel.invokeFunction(\n",
              "            'suggestCharts', [key], {});\n",
              "      } catch (error) {\n",
              "        console.error('Error during call to suggestCharts:', error);\n",
              "      }\n",
              "      quickchartButtonEl.classList.remove('colab-df-spinner');\n",
              "      quickchartButtonEl.classList.add('colab-df-quickchart-complete');\n",
              "    }\n",
              "    (() => {\n",
              "      let quickchartButtonEl =\n",
              "        document.querySelector('#df-09a15e08-4f73-4e44-80dd-019bd5b9c870 button');\n",
              "      quickchartButtonEl.style.display =\n",
              "        google.colab.kernel.accessAllowed ? 'block' : 'none';\n",
              "    })();\n",
              "  </script>\n",
              "</div>\n",
              "    </div>\n",
              "  </div>\n"
            ]
          },
          "metadata": {},
          "execution_count": 169
        }
      ]
    },
    {
      "cell_type": "code",
      "source": [
        "mae_test1 = mean_absolute_error(outputs['Close'], pred_test)\n",
        "rmse_test1 = mean_squared_error(outputs['Close'], pred_test) ** 0.5\n",
        "mape_test1 = 100*mean_absolute_percentage_error(outputs['Close'], pred_test)\n",
        "\n",
        "data1 = [['MAE', mae_test1],\n",
        "        ['MAPE', mape_test1],\n",
        "        ['RMSE', rmse_test1]]\n",
        "\n",
        "df_lstm_metrics1 = pd.DataFrame(data1, columns=['Métrica', 'LSTM Teste']); df_lstm_metrics1"
      ],
      "metadata": {
        "id": "uHfn-h0xBrJk",
        "colab": {
          "base_uri": "https://localhost:8080/"
        },
        "outputId": "d19368fa-10f2-4dc1-b6cc-efcb84edbf47"
      },
      "execution_count": null,
      "outputs": [
        {
          "output_type": "execute_result",
          "data": {
            "text/plain": [
              "  Métrica  LSTM Teste\n",
              "0     MAE    2.636894\n",
              "1    MAPE    9.431933\n",
              "2    RMSE    2.771302"
            ],
            "text/html": [
              "\n",
              "  <div id=\"df-c480f636-134f-489c-a740-ddc43948d21f\" class=\"colab-df-container\">\n",
              "    <div>\n",
              "<style scoped>\n",
              "    .dataframe tbody tr th:only-of-type {\n",
              "        vertical-align: middle;\n",
              "    }\n",
              "\n",
              "    .dataframe tbody tr th {\n",
              "        vertical-align: top;\n",
              "    }\n",
              "\n",
              "    .dataframe thead th {\n",
              "        text-align: right;\n",
              "    }\n",
              "</style>\n",
              "<table border=\"1\" class=\"dataframe\">\n",
              "  <thead>\n",
              "    <tr style=\"text-align: right;\">\n",
              "      <th></th>\n",
              "      <th>Métrica</th>\n",
              "      <th>LSTM Teste</th>\n",
              "    </tr>\n",
              "  </thead>\n",
              "  <tbody>\n",
              "    <tr>\n",
              "      <th>0</th>\n",
              "      <td>MAE</td>\n",
              "      <td>2.636894</td>\n",
              "    </tr>\n",
              "    <tr>\n",
              "      <th>1</th>\n",
              "      <td>MAPE</td>\n",
              "      <td>9.431933</td>\n",
              "    </tr>\n",
              "    <tr>\n",
              "      <th>2</th>\n",
              "      <td>RMSE</td>\n",
              "      <td>2.771302</td>\n",
              "    </tr>\n",
              "  </tbody>\n",
              "</table>\n",
              "</div>\n",
              "    <div class=\"colab-df-buttons\">\n",
              "\n",
              "  <div class=\"colab-df-container\">\n",
              "    <button class=\"colab-df-convert\" onclick=\"convertToInteractive('df-c480f636-134f-489c-a740-ddc43948d21f')\"\n",
              "            title=\"Convert this dataframe to an interactive table.\"\n",
              "            style=\"display:none;\">\n",
              "\n",
              "  <svg xmlns=\"http://www.w3.org/2000/svg\" height=\"24px\" viewBox=\"0 -960 960 960\">\n",
              "    <path d=\"M120-120v-720h720v720H120Zm60-500h600v-160H180v160Zm220 220h160v-160H400v160Zm0 220h160v-160H400v160ZM180-400h160v-160H180v160Zm440 0h160v-160H620v160ZM180-180h160v-160H180v160Zm440 0h160v-160H620v160Z\"/>\n",
              "  </svg>\n",
              "    </button>\n",
              "\n",
              "  <style>\n",
              "    .colab-df-container {\n",
              "      display:flex;\n",
              "      gap: 12px;\n",
              "    }\n",
              "\n",
              "    .colab-df-convert {\n",
              "      background-color: #E8F0FE;\n",
              "      border: none;\n",
              "      border-radius: 50%;\n",
              "      cursor: pointer;\n",
              "      display: none;\n",
              "      fill: #1967D2;\n",
              "      height: 32px;\n",
              "      padding: 0 0 0 0;\n",
              "      width: 32px;\n",
              "    }\n",
              "\n",
              "    .colab-df-convert:hover {\n",
              "      background-color: #E2EBFA;\n",
              "      box-shadow: 0px 1px 2px rgba(60, 64, 67, 0.3), 0px 1px 3px 1px rgba(60, 64, 67, 0.15);\n",
              "      fill: #174EA6;\n",
              "    }\n",
              "\n",
              "    .colab-df-buttons div {\n",
              "      margin-bottom: 4px;\n",
              "    }\n",
              "\n",
              "    [theme=dark] .colab-df-convert {\n",
              "      background-color: #3B4455;\n",
              "      fill: #D2E3FC;\n",
              "    }\n",
              "\n",
              "    [theme=dark] .colab-df-convert:hover {\n",
              "      background-color: #434B5C;\n",
              "      box-shadow: 0px 1px 3px 1px rgba(0, 0, 0, 0.15);\n",
              "      filter: drop-shadow(0px 1px 2px rgba(0, 0, 0, 0.3));\n",
              "      fill: #FFFFFF;\n",
              "    }\n",
              "  </style>\n",
              "\n",
              "    <script>\n",
              "      const buttonEl =\n",
              "        document.querySelector('#df-c480f636-134f-489c-a740-ddc43948d21f button.colab-df-convert');\n",
              "      buttonEl.style.display =\n",
              "        google.colab.kernel.accessAllowed ? 'block' : 'none';\n",
              "\n",
              "      async function convertToInteractive(key) {\n",
              "        const element = document.querySelector('#df-c480f636-134f-489c-a740-ddc43948d21f');\n",
              "        const dataTable =\n",
              "          await google.colab.kernel.invokeFunction('convertToInteractive',\n",
              "                                                    [key], {});\n",
              "        if (!dataTable) return;\n",
              "\n",
              "        const docLinkHtml = 'Like what you see? Visit the ' +\n",
              "          '<a target=\"_blank\" href=https://colab.research.google.com/notebooks/data_table.ipynb>data table notebook</a>'\n",
              "          + ' to learn more about interactive tables.';\n",
              "        element.innerHTML = '';\n",
              "        dataTable['output_type'] = 'display_data';\n",
              "        await google.colab.output.renderOutput(dataTable, element);\n",
              "        const docLink = document.createElement('div');\n",
              "        docLink.innerHTML = docLinkHtml;\n",
              "        element.appendChild(docLink);\n",
              "      }\n",
              "    </script>\n",
              "  </div>\n",
              "\n",
              "\n",
              "<div id=\"df-c0fb69ae-b89a-4eaa-b817-bcd6f15d7414\">\n",
              "  <button class=\"colab-df-quickchart\" onclick=\"quickchart('df-c0fb69ae-b89a-4eaa-b817-bcd6f15d7414')\"\n",
              "            title=\"Suggest charts\"\n",
              "            style=\"display:none;\">\n",
              "\n",
              "<svg xmlns=\"http://www.w3.org/2000/svg\" height=\"24px\"viewBox=\"0 0 24 24\"\n",
              "     width=\"24px\">\n",
              "    <g>\n",
              "        <path d=\"M19 3H5c-1.1 0-2 .9-2 2v14c0 1.1.9 2 2 2h14c1.1 0 2-.9 2-2V5c0-1.1-.9-2-2-2zM9 17H7v-7h2v7zm4 0h-2V7h2v10zm4 0h-2v-4h2v4z\"/>\n",
              "    </g>\n",
              "</svg>\n",
              "  </button>\n",
              "\n",
              "<style>\n",
              "  .colab-df-quickchart {\n",
              "      --bg-color: #E8F0FE;\n",
              "      --fill-color: #1967D2;\n",
              "      --hover-bg-color: #E2EBFA;\n",
              "      --hover-fill-color: #174EA6;\n",
              "      --disabled-fill-color: #AAA;\n",
              "      --disabled-bg-color: #DDD;\n",
              "  }\n",
              "\n",
              "  [theme=dark] .colab-df-quickchart {\n",
              "      --bg-color: #3B4455;\n",
              "      --fill-color: #D2E3FC;\n",
              "      --hover-bg-color: #434B5C;\n",
              "      --hover-fill-color: #FFFFFF;\n",
              "      --disabled-bg-color: #3B4455;\n",
              "      --disabled-fill-color: #666;\n",
              "  }\n",
              "\n",
              "  .colab-df-quickchart {\n",
              "    background-color: var(--bg-color);\n",
              "    border: none;\n",
              "    border-radius: 50%;\n",
              "    cursor: pointer;\n",
              "    display: none;\n",
              "    fill: var(--fill-color);\n",
              "    height: 32px;\n",
              "    padding: 0;\n",
              "    width: 32px;\n",
              "  }\n",
              "\n",
              "  .colab-df-quickchart:hover {\n",
              "    background-color: var(--hover-bg-color);\n",
              "    box-shadow: 0 1px 2px rgba(60, 64, 67, 0.3), 0 1px 3px 1px rgba(60, 64, 67, 0.15);\n",
              "    fill: var(--button-hover-fill-color);\n",
              "  }\n",
              "\n",
              "  .colab-df-quickchart-complete:disabled,\n",
              "  .colab-df-quickchart-complete:disabled:hover {\n",
              "    background-color: var(--disabled-bg-color);\n",
              "    fill: var(--disabled-fill-color);\n",
              "    box-shadow: none;\n",
              "  }\n",
              "\n",
              "  .colab-df-spinner {\n",
              "    border: 2px solid var(--fill-color);\n",
              "    border-color: transparent;\n",
              "    border-bottom-color: var(--fill-color);\n",
              "    animation:\n",
              "      spin 1s steps(1) infinite;\n",
              "  }\n",
              "\n",
              "  @keyframes spin {\n",
              "    0% {\n",
              "      border-color: transparent;\n",
              "      border-bottom-color: var(--fill-color);\n",
              "      border-left-color: var(--fill-color);\n",
              "    }\n",
              "    20% {\n",
              "      border-color: transparent;\n",
              "      border-left-color: var(--fill-color);\n",
              "      border-top-color: var(--fill-color);\n",
              "    }\n",
              "    30% {\n",
              "      border-color: transparent;\n",
              "      border-left-color: var(--fill-color);\n",
              "      border-top-color: var(--fill-color);\n",
              "      border-right-color: var(--fill-color);\n",
              "    }\n",
              "    40% {\n",
              "      border-color: transparent;\n",
              "      border-right-color: var(--fill-color);\n",
              "      border-top-color: var(--fill-color);\n",
              "    }\n",
              "    60% {\n",
              "      border-color: transparent;\n",
              "      border-right-color: var(--fill-color);\n",
              "    }\n",
              "    80% {\n",
              "      border-color: transparent;\n",
              "      border-right-color: var(--fill-color);\n",
              "      border-bottom-color: var(--fill-color);\n",
              "    }\n",
              "    90% {\n",
              "      border-color: transparent;\n",
              "      border-bottom-color: var(--fill-color);\n",
              "    }\n",
              "  }\n",
              "</style>\n",
              "\n",
              "  <script>\n",
              "    async function quickchart(key) {\n",
              "      const quickchartButtonEl =\n",
              "        document.querySelector('#' + key + ' button');\n",
              "      quickchartButtonEl.disabled = true;  // To prevent multiple clicks.\n",
              "      quickchartButtonEl.classList.add('colab-df-spinner');\n",
              "      try {\n",
              "        const charts = await google.colab.kernel.invokeFunction(\n",
              "            'suggestCharts', [key], {});\n",
              "      } catch (error) {\n",
              "        console.error('Error during call to suggestCharts:', error);\n",
              "      }\n",
              "      quickchartButtonEl.classList.remove('colab-df-spinner');\n",
              "      quickchartButtonEl.classList.add('colab-df-quickchart-complete');\n",
              "    }\n",
              "    (() => {\n",
              "      let quickchartButtonEl =\n",
              "        document.querySelector('#df-c0fb69ae-b89a-4eaa-b817-bcd6f15d7414 button');\n",
              "      quickchartButtonEl.style.display =\n",
              "        google.colab.kernel.accessAllowed ? 'block' : 'none';\n",
              "    })();\n",
              "  </script>\n",
              "</div>\n",
              "    </div>\n",
              "  </div>\n"
            ]
          },
          "metadata": {},
          "execution_count": 170
        }
      ]
    },
    {
      "cell_type": "markdown",
      "source": [
        "## **Cálculo das métricas Random Walk**"
      ],
      "metadata": {
        "id": "ZTqSaKQK32NN"
      }
    },
    {
      "cell_type": "code",
      "source": [
        "mae_rw = mean_absolute_error(outputs['Close'], outputs['RW'])\n",
        "rmse_rw = mean_squared_error(outputs['Close'], outputs['RW']) ** 0.5\n",
        "mape_rw = 100*mean_absolute_percentage_error(outputs['Close'], outputs['RW'])\n",
        "\n",
        "data = [['MAE', mae_rw],\n",
        "        ['MAPE', mape_rw],\n",
        "        ['RMSE', rmse_rw]]\n",
        "\n",
        "df_rw_metrics = pd.DataFrame(data, columns=['Métrica', 'RW'])"
      ],
      "metadata": {
        "id": "ie-RAOq137F8"
      },
      "execution_count": null,
      "outputs": []
    },
    {
      "cell_type": "code",
      "source": [
        "df_rw_metrics"
      ],
      "metadata": {
        "id": "DP2AP0zpjq6W",
        "colab": {
          "base_uri": "https://localhost:8080/"
        },
        "outputId": "e5ced449-ab74-4de6-e7a4-812a42c560f5"
      },
      "execution_count": null,
      "outputs": [
        {
          "output_type": "execute_result",
          "data": {
            "text/plain": [
              "  Métrica        RW\n",
              "0     MAE  0.357557\n",
              "1    MAPE  1.257371\n",
              "2    RMSE  0.457740"
            ],
            "text/html": [
              "\n",
              "  <div id=\"df-2203a801-572e-4586-9560-9f6e773cad7d\" class=\"colab-df-container\">\n",
              "    <div>\n",
              "<style scoped>\n",
              "    .dataframe tbody tr th:only-of-type {\n",
              "        vertical-align: middle;\n",
              "    }\n",
              "\n",
              "    .dataframe tbody tr th {\n",
              "        vertical-align: top;\n",
              "    }\n",
              "\n",
              "    .dataframe thead th {\n",
              "        text-align: right;\n",
              "    }\n",
              "</style>\n",
              "<table border=\"1\" class=\"dataframe\">\n",
              "  <thead>\n",
              "    <tr style=\"text-align: right;\">\n",
              "      <th></th>\n",
              "      <th>Métrica</th>\n",
              "      <th>RW</th>\n",
              "    </tr>\n",
              "  </thead>\n",
              "  <tbody>\n",
              "    <tr>\n",
              "      <th>0</th>\n",
              "      <td>MAE</td>\n",
              "      <td>0.357557</td>\n",
              "    </tr>\n",
              "    <tr>\n",
              "      <th>1</th>\n",
              "      <td>MAPE</td>\n",
              "      <td>1.257371</td>\n",
              "    </tr>\n",
              "    <tr>\n",
              "      <th>2</th>\n",
              "      <td>RMSE</td>\n",
              "      <td>0.457740</td>\n",
              "    </tr>\n",
              "  </tbody>\n",
              "</table>\n",
              "</div>\n",
              "    <div class=\"colab-df-buttons\">\n",
              "\n",
              "  <div class=\"colab-df-container\">\n",
              "    <button class=\"colab-df-convert\" onclick=\"convertToInteractive('df-2203a801-572e-4586-9560-9f6e773cad7d')\"\n",
              "            title=\"Convert this dataframe to an interactive table.\"\n",
              "            style=\"display:none;\">\n",
              "\n",
              "  <svg xmlns=\"http://www.w3.org/2000/svg\" height=\"24px\" viewBox=\"0 -960 960 960\">\n",
              "    <path d=\"M120-120v-720h720v720H120Zm60-500h600v-160H180v160Zm220 220h160v-160H400v160Zm0 220h160v-160H400v160ZM180-400h160v-160H180v160Zm440 0h160v-160H620v160ZM180-180h160v-160H180v160Zm440 0h160v-160H620v160Z\"/>\n",
              "  </svg>\n",
              "    </button>\n",
              "\n",
              "  <style>\n",
              "    .colab-df-container {\n",
              "      display:flex;\n",
              "      gap: 12px;\n",
              "    }\n",
              "\n",
              "    .colab-df-convert {\n",
              "      background-color: #E8F0FE;\n",
              "      border: none;\n",
              "      border-radius: 50%;\n",
              "      cursor: pointer;\n",
              "      display: none;\n",
              "      fill: #1967D2;\n",
              "      height: 32px;\n",
              "      padding: 0 0 0 0;\n",
              "      width: 32px;\n",
              "    }\n",
              "\n",
              "    .colab-df-convert:hover {\n",
              "      background-color: #E2EBFA;\n",
              "      box-shadow: 0px 1px 2px rgba(60, 64, 67, 0.3), 0px 1px 3px 1px rgba(60, 64, 67, 0.15);\n",
              "      fill: #174EA6;\n",
              "    }\n",
              "\n",
              "    .colab-df-buttons div {\n",
              "      margin-bottom: 4px;\n",
              "    }\n",
              "\n",
              "    [theme=dark] .colab-df-convert {\n",
              "      background-color: #3B4455;\n",
              "      fill: #D2E3FC;\n",
              "    }\n",
              "\n",
              "    [theme=dark] .colab-df-convert:hover {\n",
              "      background-color: #434B5C;\n",
              "      box-shadow: 0px 1px 3px 1px rgba(0, 0, 0, 0.15);\n",
              "      filter: drop-shadow(0px 1px 2px rgba(0, 0, 0, 0.3));\n",
              "      fill: #FFFFFF;\n",
              "    }\n",
              "  </style>\n",
              "\n",
              "    <script>\n",
              "      const buttonEl =\n",
              "        document.querySelector('#df-2203a801-572e-4586-9560-9f6e773cad7d button.colab-df-convert');\n",
              "      buttonEl.style.display =\n",
              "        google.colab.kernel.accessAllowed ? 'block' : 'none';\n",
              "\n",
              "      async function convertToInteractive(key) {\n",
              "        const element = document.querySelector('#df-2203a801-572e-4586-9560-9f6e773cad7d');\n",
              "        const dataTable =\n",
              "          await google.colab.kernel.invokeFunction('convertToInteractive',\n",
              "                                                    [key], {});\n",
              "        if (!dataTable) return;\n",
              "\n",
              "        const docLinkHtml = 'Like what you see? Visit the ' +\n",
              "          '<a target=\"_blank\" href=https://colab.research.google.com/notebooks/data_table.ipynb>data table notebook</a>'\n",
              "          + ' to learn more about interactive tables.';\n",
              "        element.innerHTML = '';\n",
              "        dataTable['output_type'] = 'display_data';\n",
              "        await google.colab.output.renderOutput(dataTable, element);\n",
              "        const docLink = document.createElement('div');\n",
              "        docLink.innerHTML = docLinkHtml;\n",
              "        element.appendChild(docLink);\n",
              "      }\n",
              "    </script>\n",
              "  </div>\n",
              "\n",
              "\n",
              "<div id=\"df-476b294e-5442-4108-aad8-925ba8f78927\">\n",
              "  <button class=\"colab-df-quickchart\" onclick=\"quickchart('df-476b294e-5442-4108-aad8-925ba8f78927')\"\n",
              "            title=\"Suggest charts\"\n",
              "            style=\"display:none;\">\n",
              "\n",
              "<svg xmlns=\"http://www.w3.org/2000/svg\" height=\"24px\"viewBox=\"0 0 24 24\"\n",
              "     width=\"24px\">\n",
              "    <g>\n",
              "        <path d=\"M19 3H5c-1.1 0-2 .9-2 2v14c0 1.1.9 2 2 2h14c1.1 0 2-.9 2-2V5c0-1.1-.9-2-2-2zM9 17H7v-7h2v7zm4 0h-2V7h2v10zm4 0h-2v-4h2v4z\"/>\n",
              "    </g>\n",
              "</svg>\n",
              "  </button>\n",
              "\n",
              "<style>\n",
              "  .colab-df-quickchart {\n",
              "      --bg-color: #E8F0FE;\n",
              "      --fill-color: #1967D2;\n",
              "      --hover-bg-color: #E2EBFA;\n",
              "      --hover-fill-color: #174EA6;\n",
              "      --disabled-fill-color: #AAA;\n",
              "      --disabled-bg-color: #DDD;\n",
              "  }\n",
              "\n",
              "  [theme=dark] .colab-df-quickchart {\n",
              "      --bg-color: #3B4455;\n",
              "      --fill-color: #D2E3FC;\n",
              "      --hover-bg-color: #434B5C;\n",
              "      --hover-fill-color: #FFFFFF;\n",
              "      --disabled-bg-color: #3B4455;\n",
              "      --disabled-fill-color: #666;\n",
              "  }\n",
              "\n",
              "  .colab-df-quickchart {\n",
              "    background-color: var(--bg-color);\n",
              "    border: none;\n",
              "    border-radius: 50%;\n",
              "    cursor: pointer;\n",
              "    display: none;\n",
              "    fill: var(--fill-color);\n",
              "    height: 32px;\n",
              "    padding: 0;\n",
              "    width: 32px;\n",
              "  }\n",
              "\n",
              "  .colab-df-quickchart:hover {\n",
              "    background-color: var(--hover-bg-color);\n",
              "    box-shadow: 0 1px 2px rgba(60, 64, 67, 0.3), 0 1px 3px 1px rgba(60, 64, 67, 0.15);\n",
              "    fill: var(--button-hover-fill-color);\n",
              "  }\n",
              "\n",
              "  .colab-df-quickchart-complete:disabled,\n",
              "  .colab-df-quickchart-complete:disabled:hover {\n",
              "    background-color: var(--disabled-bg-color);\n",
              "    fill: var(--disabled-fill-color);\n",
              "    box-shadow: none;\n",
              "  }\n",
              "\n",
              "  .colab-df-spinner {\n",
              "    border: 2px solid var(--fill-color);\n",
              "    border-color: transparent;\n",
              "    border-bottom-color: var(--fill-color);\n",
              "    animation:\n",
              "      spin 1s steps(1) infinite;\n",
              "  }\n",
              "\n",
              "  @keyframes spin {\n",
              "    0% {\n",
              "      border-color: transparent;\n",
              "      border-bottom-color: var(--fill-color);\n",
              "      border-left-color: var(--fill-color);\n",
              "    }\n",
              "    20% {\n",
              "      border-color: transparent;\n",
              "      border-left-color: var(--fill-color);\n",
              "      border-top-color: var(--fill-color);\n",
              "    }\n",
              "    30% {\n",
              "      border-color: transparent;\n",
              "      border-left-color: var(--fill-color);\n",
              "      border-top-color: var(--fill-color);\n",
              "      border-right-color: var(--fill-color);\n",
              "    }\n",
              "    40% {\n",
              "      border-color: transparent;\n",
              "      border-right-color: var(--fill-color);\n",
              "      border-top-color: var(--fill-color);\n",
              "    }\n",
              "    60% {\n",
              "      border-color: transparent;\n",
              "      border-right-color: var(--fill-color);\n",
              "    }\n",
              "    80% {\n",
              "      border-color: transparent;\n",
              "      border-right-color: var(--fill-color);\n",
              "      border-bottom-color: var(--fill-color);\n",
              "    }\n",
              "    90% {\n",
              "      border-color: transparent;\n",
              "      border-bottom-color: var(--fill-color);\n",
              "    }\n",
              "  }\n",
              "</style>\n",
              "\n",
              "  <script>\n",
              "    async function quickchart(key) {\n",
              "      const quickchartButtonEl =\n",
              "        document.querySelector('#' + key + ' button');\n",
              "      quickchartButtonEl.disabled = true;  // To prevent multiple clicks.\n",
              "      quickchartButtonEl.classList.add('colab-df-spinner');\n",
              "      try {\n",
              "        const charts = await google.colab.kernel.invokeFunction(\n",
              "            'suggestCharts', [key], {});\n",
              "      } catch (error) {\n",
              "        console.error('Error during call to suggestCharts:', error);\n",
              "      }\n",
              "      quickchartButtonEl.classList.remove('colab-df-spinner');\n",
              "      quickchartButtonEl.classList.add('colab-df-quickchart-complete');\n",
              "    }\n",
              "    (() => {\n",
              "      let quickchartButtonEl =\n",
              "        document.querySelector('#df-476b294e-5442-4108-aad8-925ba8f78927 button');\n",
              "      quickchartButtonEl.style.display =\n",
              "        google.colab.kernel.accessAllowed ? 'block' : 'none';\n",
              "    })();\n",
              "  </script>\n",
              "</div>\n",
              "    </div>\n",
              "  </div>\n"
            ]
          },
          "metadata": {},
          "execution_count": 172
        }
      ]
    },
    {
      "cell_type": "code",
      "source": [
        "df_metrics = pd.merge(df_lstm_metrics, df_rw_metrics, on='Métrica', how='inner')"
      ],
      "metadata": {
        "id": "5mi3cx8ekZA5"
      },
      "execution_count": null,
      "outputs": []
    },
    {
      "cell_type": "code",
      "source": [
        "df_metrics"
      ],
      "metadata": {
        "id": "aa5cQRhyJtSR",
        "colab": {
          "base_uri": "https://localhost:8080/"
        },
        "outputId": "490cade9-f73c-4c10-e77e-0b8504e31750"
      },
      "execution_count": null,
      "outputs": [
        {
          "output_type": "execute_result",
          "data": {
            "text/plain": [
              "  Métrica  LSTM Teste        RW\n",
              "0     MAE    2.636894  0.357557\n",
              "1    MAPE    9.431933  1.257371\n",
              "2    RMSE    2.771302  0.457740"
            ],
            "text/html": [
              "\n",
              "  <div id=\"df-2a734c53-36a8-4d36-aca2-c0d1ec6b2376\" class=\"colab-df-container\">\n",
              "    <div>\n",
              "<style scoped>\n",
              "    .dataframe tbody tr th:only-of-type {\n",
              "        vertical-align: middle;\n",
              "    }\n",
              "\n",
              "    .dataframe tbody tr th {\n",
              "        vertical-align: top;\n",
              "    }\n",
              "\n",
              "    .dataframe thead th {\n",
              "        text-align: right;\n",
              "    }\n",
              "</style>\n",
              "<table border=\"1\" class=\"dataframe\">\n",
              "  <thead>\n",
              "    <tr style=\"text-align: right;\">\n",
              "      <th></th>\n",
              "      <th>Métrica</th>\n",
              "      <th>LSTM Teste</th>\n",
              "      <th>RW</th>\n",
              "    </tr>\n",
              "  </thead>\n",
              "  <tbody>\n",
              "    <tr>\n",
              "      <th>0</th>\n",
              "      <td>MAE</td>\n",
              "      <td>2.636894</td>\n",
              "      <td>0.357557</td>\n",
              "    </tr>\n",
              "    <tr>\n",
              "      <th>1</th>\n",
              "      <td>MAPE</td>\n",
              "      <td>9.431933</td>\n",
              "      <td>1.257371</td>\n",
              "    </tr>\n",
              "    <tr>\n",
              "      <th>2</th>\n",
              "      <td>RMSE</td>\n",
              "      <td>2.771302</td>\n",
              "      <td>0.457740</td>\n",
              "    </tr>\n",
              "  </tbody>\n",
              "</table>\n",
              "</div>\n",
              "    <div class=\"colab-df-buttons\">\n",
              "\n",
              "  <div class=\"colab-df-container\">\n",
              "    <button class=\"colab-df-convert\" onclick=\"convertToInteractive('df-2a734c53-36a8-4d36-aca2-c0d1ec6b2376')\"\n",
              "            title=\"Convert this dataframe to an interactive table.\"\n",
              "            style=\"display:none;\">\n",
              "\n",
              "  <svg xmlns=\"http://www.w3.org/2000/svg\" height=\"24px\" viewBox=\"0 -960 960 960\">\n",
              "    <path d=\"M120-120v-720h720v720H120Zm60-500h600v-160H180v160Zm220 220h160v-160H400v160Zm0 220h160v-160H400v160ZM180-400h160v-160H180v160Zm440 0h160v-160H620v160ZM180-180h160v-160H180v160Zm440 0h160v-160H620v160Z\"/>\n",
              "  </svg>\n",
              "    </button>\n",
              "\n",
              "  <style>\n",
              "    .colab-df-container {\n",
              "      display:flex;\n",
              "      gap: 12px;\n",
              "    }\n",
              "\n",
              "    .colab-df-convert {\n",
              "      background-color: #E8F0FE;\n",
              "      border: none;\n",
              "      border-radius: 50%;\n",
              "      cursor: pointer;\n",
              "      display: none;\n",
              "      fill: #1967D2;\n",
              "      height: 32px;\n",
              "      padding: 0 0 0 0;\n",
              "      width: 32px;\n",
              "    }\n",
              "\n",
              "    .colab-df-convert:hover {\n",
              "      background-color: #E2EBFA;\n",
              "      box-shadow: 0px 1px 2px rgba(60, 64, 67, 0.3), 0px 1px 3px 1px rgba(60, 64, 67, 0.15);\n",
              "      fill: #174EA6;\n",
              "    }\n",
              "\n",
              "    .colab-df-buttons div {\n",
              "      margin-bottom: 4px;\n",
              "    }\n",
              "\n",
              "    [theme=dark] .colab-df-convert {\n",
              "      background-color: #3B4455;\n",
              "      fill: #D2E3FC;\n",
              "    }\n",
              "\n",
              "    [theme=dark] .colab-df-convert:hover {\n",
              "      background-color: #434B5C;\n",
              "      box-shadow: 0px 1px 3px 1px rgba(0, 0, 0, 0.15);\n",
              "      filter: drop-shadow(0px 1px 2px rgba(0, 0, 0, 0.3));\n",
              "      fill: #FFFFFF;\n",
              "    }\n",
              "  </style>\n",
              "\n",
              "    <script>\n",
              "      const buttonEl =\n",
              "        document.querySelector('#df-2a734c53-36a8-4d36-aca2-c0d1ec6b2376 button.colab-df-convert');\n",
              "      buttonEl.style.display =\n",
              "        google.colab.kernel.accessAllowed ? 'block' : 'none';\n",
              "\n",
              "      async function convertToInteractive(key) {\n",
              "        const element = document.querySelector('#df-2a734c53-36a8-4d36-aca2-c0d1ec6b2376');\n",
              "        const dataTable =\n",
              "          await google.colab.kernel.invokeFunction('convertToInteractive',\n",
              "                                                    [key], {});\n",
              "        if (!dataTable) return;\n",
              "\n",
              "        const docLinkHtml = 'Like what you see? Visit the ' +\n",
              "          '<a target=\"_blank\" href=https://colab.research.google.com/notebooks/data_table.ipynb>data table notebook</a>'\n",
              "          + ' to learn more about interactive tables.';\n",
              "        element.innerHTML = '';\n",
              "        dataTable['output_type'] = 'display_data';\n",
              "        await google.colab.output.renderOutput(dataTable, element);\n",
              "        const docLink = document.createElement('div');\n",
              "        docLink.innerHTML = docLinkHtml;\n",
              "        element.appendChild(docLink);\n",
              "      }\n",
              "    </script>\n",
              "  </div>\n",
              "\n",
              "\n",
              "<div id=\"df-661dd650-e481-4b69-80ae-d2f454e9c581\">\n",
              "  <button class=\"colab-df-quickchart\" onclick=\"quickchart('df-661dd650-e481-4b69-80ae-d2f454e9c581')\"\n",
              "            title=\"Suggest charts\"\n",
              "            style=\"display:none;\">\n",
              "\n",
              "<svg xmlns=\"http://www.w3.org/2000/svg\" height=\"24px\"viewBox=\"0 0 24 24\"\n",
              "     width=\"24px\">\n",
              "    <g>\n",
              "        <path d=\"M19 3H5c-1.1 0-2 .9-2 2v14c0 1.1.9 2 2 2h14c1.1 0 2-.9 2-2V5c0-1.1-.9-2-2-2zM9 17H7v-7h2v7zm4 0h-2V7h2v10zm4 0h-2v-4h2v4z\"/>\n",
              "    </g>\n",
              "</svg>\n",
              "  </button>\n",
              "\n",
              "<style>\n",
              "  .colab-df-quickchart {\n",
              "      --bg-color: #E8F0FE;\n",
              "      --fill-color: #1967D2;\n",
              "      --hover-bg-color: #E2EBFA;\n",
              "      --hover-fill-color: #174EA6;\n",
              "      --disabled-fill-color: #AAA;\n",
              "      --disabled-bg-color: #DDD;\n",
              "  }\n",
              "\n",
              "  [theme=dark] .colab-df-quickchart {\n",
              "      --bg-color: #3B4455;\n",
              "      --fill-color: #D2E3FC;\n",
              "      --hover-bg-color: #434B5C;\n",
              "      --hover-fill-color: #FFFFFF;\n",
              "      --disabled-bg-color: #3B4455;\n",
              "      --disabled-fill-color: #666;\n",
              "  }\n",
              "\n",
              "  .colab-df-quickchart {\n",
              "    background-color: var(--bg-color);\n",
              "    border: none;\n",
              "    border-radius: 50%;\n",
              "    cursor: pointer;\n",
              "    display: none;\n",
              "    fill: var(--fill-color);\n",
              "    height: 32px;\n",
              "    padding: 0;\n",
              "    width: 32px;\n",
              "  }\n",
              "\n",
              "  .colab-df-quickchart:hover {\n",
              "    background-color: var(--hover-bg-color);\n",
              "    box-shadow: 0 1px 2px rgba(60, 64, 67, 0.3), 0 1px 3px 1px rgba(60, 64, 67, 0.15);\n",
              "    fill: var(--button-hover-fill-color);\n",
              "  }\n",
              "\n",
              "  .colab-df-quickchart-complete:disabled,\n",
              "  .colab-df-quickchart-complete:disabled:hover {\n",
              "    background-color: var(--disabled-bg-color);\n",
              "    fill: var(--disabled-fill-color);\n",
              "    box-shadow: none;\n",
              "  }\n",
              "\n",
              "  .colab-df-spinner {\n",
              "    border: 2px solid var(--fill-color);\n",
              "    border-color: transparent;\n",
              "    border-bottom-color: var(--fill-color);\n",
              "    animation:\n",
              "      spin 1s steps(1) infinite;\n",
              "  }\n",
              "\n",
              "  @keyframes spin {\n",
              "    0% {\n",
              "      border-color: transparent;\n",
              "      border-bottom-color: var(--fill-color);\n",
              "      border-left-color: var(--fill-color);\n",
              "    }\n",
              "    20% {\n",
              "      border-color: transparent;\n",
              "      border-left-color: var(--fill-color);\n",
              "      border-top-color: var(--fill-color);\n",
              "    }\n",
              "    30% {\n",
              "      border-color: transparent;\n",
              "      border-left-color: var(--fill-color);\n",
              "      border-top-color: var(--fill-color);\n",
              "      border-right-color: var(--fill-color);\n",
              "    }\n",
              "    40% {\n",
              "      border-color: transparent;\n",
              "      border-right-color: var(--fill-color);\n",
              "      border-top-color: var(--fill-color);\n",
              "    }\n",
              "    60% {\n",
              "      border-color: transparent;\n",
              "      border-right-color: var(--fill-color);\n",
              "    }\n",
              "    80% {\n",
              "      border-color: transparent;\n",
              "      border-right-color: var(--fill-color);\n",
              "      border-bottom-color: var(--fill-color);\n",
              "    }\n",
              "    90% {\n",
              "      border-color: transparent;\n",
              "      border-bottom-color: var(--fill-color);\n",
              "    }\n",
              "  }\n",
              "</style>\n",
              "\n",
              "  <script>\n",
              "    async function quickchart(key) {\n",
              "      const quickchartButtonEl =\n",
              "        document.querySelector('#' + key + ' button');\n",
              "      quickchartButtonEl.disabled = true;  // To prevent multiple clicks.\n",
              "      quickchartButtonEl.classList.add('colab-df-spinner');\n",
              "      try {\n",
              "        const charts = await google.colab.kernel.invokeFunction(\n",
              "            'suggestCharts', [key], {});\n",
              "      } catch (error) {\n",
              "        console.error('Error during call to suggestCharts:', error);\n",
              "      }\n",
              "      quickchartButtonEl.classList.remove('colab-df-spinner');\n",
              "      quickchartButtonEl.classList.add('colab-df-quickchart-complete');\n",
              "    }\n",
              "    (() => {\n",
              "      let quickchartButtonEl =\n",
              "        document.querySelector('#df-661dd650-e481-4b69-80ae-d2f454e9c581 button');\n",
              "      quickchartButtonEl.style.display =\n",
              "        google.colab.kernel.accessAllowed ? 'block' : 'none';\n",
              "    })();\n",
              "  </script>\n",
              "</div>\n",
              "    </div>\n",
              "  </div>\n"
            ]
          },
          "metadata": {},
          "execution_count": 174
        }
      ]
    },
    {
      "cell_type": "code",
      "source": [
        "import os\n",
        "path = f'/content/drive/MyDrive/ARTIGO_LSTM/outputs/{ativo}/'\n",
        "if not os.path.exists(path):\n",
        "   os.makedirs(path)\n",
        "df_metrics.to_csv(f'/content/drive/MyDrive/ARTIGO_LSTM/outputs/{ativo}/metrics_{window_size}_dias.csv', index=False)"
      ],
      "metadata": {
        "id": "dW0uln_EtA6k"
      },
      "execution_count": null,
      "outputs": []
    },
    {
      "cell_type": "code",
      "source": [
        "outputs['LSTM'] = pd.DataFrame(pred_test)\n",
        "outputs['Erro.RW'] = outputs['RW'] - outputs['Close']\n",
        "outputs['Erro.LSTM'] = outputs['LSTM'] - outputs['Close']#; outputs"
      ],
      "metadata": {
        "id": "iet1AcnssecS"
      },
      "execution_count": null,
      "outputs": []
    },
    {
      "cell_type": "code",
      "source": [
        "outputs.to_csv(path+f'outputs_{ativo}_{window_size}_dias.csv', sep=',', index=False)"
      ],
      "metadata": {
        "id": "_aAxjYEnt_M2"
      },
      "execution_count": null,
      "outputs": []
    },
    {
      "cell_type": "markdown",
      "source": [
        "### Figuras"
      ],
      "metadata": {
        "id": "Vfat67us4BsS"
      }
    },
    {
      "cell_type": "code",
      "source": [
        "## Loss Curve\n",
        "plt.plot(history.history['loss'], label='Treino')\n",
        "plt.plot(history.history['val_loss'], label='Teste')\n",
        "#plt.title('Training and Validation Loss Curves')\n",
        "plt.xlabel('Épocas')\n",
        "plt.ylabel('Perda')\n",
        "plt.legend()\n",
        "plt.savefig(path+f'fig1_loss_{ativo}_{window_size}_dias.png', dpi=300)\n",
        "#plt.show()"
      ],
      "metadata": {
        "id": "bTMEwme-1hXi",
        "colab": {
          "base_uri": "https://localhost:8080/"
        },
        "outputId": "9060dc5c-f999-4ce7-a80d-1afa321a1c54"
      },
      "execution_count": null,
      "outputs": [
        {
          "output_type": "display_data",
          "data": {
            "text/plain": [
              "<Figure size 640x480 with 1 Axes>"
            ],
            "image/png": "[encoded data removed]"
          },
          "metadata": {}
        }
      ]
    },
    {
      "cell_type": "code",
      "source": [
        "#Dados de Treino\n",
        "plt.plot(output_train_reverse, label='Dados reais')\n",
        "plt.plot(pred_train, label='Previsões com dados de treino')\n",
        "plt.legend()\n",
        "plt.savefig(path+f'fig2_treino_{ativo}_{window_size}_dias.png', dpi=300)\n"
      ],
      "metadata": {
        "id": "HqemvJq44E3R",
        "colab": {
          "base_uri": "https://localhost:8080/"
        },
        "outputId": "20510398-1c0a-4268-c626-70b09a0b55ce"
      },
      "execution_count": null,
      "outputs": [
        {
          "output_type": "display_data",
          "data": {
            "text/plain": [
              "<Figure size 640x480 with 1 Axes>"
            ],
            "image/png": "[encoded data removed]"
          },
          "metadata": {}
        }
      ]
    },
    {
      "cell_type": "code",
      "source": [
        "#Dados de Teste\n",
        "plt.plot(outputs['Date'], outputs['Close'], label='Dados reais')\n",
        "plt.plot(outputs['Date'], outputs['RW'], label='Random Walk')\n",
        "plt.plot(outputs['Date'], outputs['LSTM'], label='LSTM')\n",
        "plt.xticks(rotation = 45) # Rotates X-Axis Ticks by 45-degrees\n",
        "plt.legend()\n",
        "plt.savefig(path+f'fig3_teste_{ativo}_{window_size}_dias.png', dpi=300)\n"
      ],
      "metadata": {
        "id": "9PnGoMLE4GOT",
        "colab": {
          "base_uri": "https://localhost:8080/"
        },
        "outputId": "1b03f758-8403-4b6a-f56e-ebff4d4ab907"
      },
      "execution_count": null,
      "outputs": [
        {
          "output_type": "display_data",
          "data": {
            "text/plain": [
              "<Figure size 640x480 with 1 Axes>"
            ],
            "image/png": "[encoded data removed]"
          },
          "metadata": {}
        }
      ]
    },
    {
      "cell_type": "markdown",
      "source": [
        "## Testes de Significância"
      ],
      "metadata": {
        "id": "oDXvZsmr5_Wm"
      }
    },
    {
      "cell_type": "markdown",
      "source": [
        "### Diferenças nas previsões"
      ],
      "metadata": {
        "id": "weiNZ_H-6F-9"
      }
    },
    {
      "cell_type": "code",
      "source": [
        "!pip install -q -U dieboldmariano"
      ],
      "metadata": {
        "id": "3CaYqt1p_Y-I"
      },
      "execution_count": null,
      "outputs": []
    },
    {
      "cell_type": "code",
      "source": [
        "from dieboldmariano import dm_test"
      ],
      "metadata": {
        "id": "bZmkXLuh_sfj"
      },
      "execution_count": null,
      "outputs": []
    },
    {
      "cell_type": "code",
      "source": [
        "#Teste de Diebold-Mariano para MAPE\n",
        "DM_mape = dm_test(outputs['Close'],outputs['RW'],outputs['LSTM'], loss = lambda x, y: abs((x - y)/y), one_sided=False)\n",
        "\n",
        "#Teste de Diebold-Mariano para MAE\n",
        "DM_mae = dm_test(outputs['Close'],outputs['RW'],outputs['LSTM'], loss = lambda x, y: abs(x - y), one_sided=False)\n",
        "\n",
        "#Teste de Diebold-Mariano para MSE >> adotar para RMSE\n",
        "DM_mse = dm_test(outputs['Close'],outputs['RW'],outputs['LSTM'], one_sided=False)"
      ],
      "metadata": {
        "id": "lWUB1S55_uSp"
      },
      "execution_count": null,
      "outputs": []
    },
    {
      "cell_type": "code",
      "source": [
        "# Resultado do Teste\n",
        "##MAPE\n",
        "estat_mape = DM_mape[0];  p_mape = DM_mape[1]\n",
        "\n",
        "# Tomar decisão com base no valor p\n",
        "alpha = 0.05  # Nível de significância\n",
        "a = \"Rejeitar a hipótese nula - há evidências de diferença significativa entre as médias.\"\n",
        "b = \"Falha em rejeitar a hipótese nula - não há evidências suficientes de diferença significativa entre as médias.\"\n",
        "\n",
        "if p_mape < alpha:\n",
        "    result_mape = a\n",
        "else:\n",
        "    result_mape = b\n",
        "#print(result_mape)\n",
        "\n",
        "##MAE\n",
        "estat_mae = DM_mae[0];  p_mae = DM_mae[1]\n",
        "\n",
        "# Tomar decisão com base no valor p\n",
        "alpha = 0.05  # Nível de significância\n",
        "a = \"Rejeitar a hipótese nula - há evidências de diferença significativa entre as médias.\"\n",
        "b = \"Falha em rejeitar a hipótese nula - não há evidências suficientes de diferença significativa entre as médias.\"\n",
        "\n",
        "if p_mape < alpha:\n",
        "    result_mae = a\n",
        "else:\n",
        "    result_mae = b\n",
        "#print(result_mae)\n",
        "\n",
        "##MSE\n",
        "estat_mse = DM_mse[0];  p_mse = DM_mse[1]\n",
        "\n",
        "# Tomar decisão com base no valor p\n",
        "alpha = 0.05  # Nível de significância\n",
        "a = \"Rejeitar a hipótese nula - há evidências de diferença significativa entre as médias.\"\n",
        "b = \"Falha em rejeitar a hipótese nula - não há evidências suficientes de diferença significativa entre as médias.\"\n",
        "\n",
        "if p_mse < alpha:\n",
        "    result_mse = a\n",
        "else:\n",
        "    result_mse = b\n",
        "#print(result_mae)"
      ],
      "metadata": {
        "id": "Qyx37IqJEY8P"
      },
      "execution_count": null,
      "outputs": []
    },
    {
      "cell_type": "code",
      "source": [
        "lines = ['Diebold-Mariano Test', '\\n', f'Ativo analisado: {ativo}', '\\n',\n",
        "         f'Estatística do Teste para MAPE: {estat_mape}', f'p-valor: {p_mape}',\n",
        "         f'Resultado: {result_mape}','\\n',\n",
        "         f'Estatística do Teste para MAE: {estat_mae}', f'p-valor: {p_mae}',\n",
        "         f'Resultado: {result_mae}','\\n',\n",
        "         f'Estatística do Teste para RMSE: {estat_mse}', f'p-valor: {p_mse}',\n",
        "         f'Resultado: {result_mse}','\\n',]\n",
        "with open(path + f'teste-resultados_{ativo}_{window_size}.txt', 'w') as f:\n",
        "    f.write('\\n'.join(lines))"
      ],
      "metadata": {
        "id": "W14O1jg_GZDp"
      },
      "execution_count": null,
      "outputs": []
    }
  ]
}